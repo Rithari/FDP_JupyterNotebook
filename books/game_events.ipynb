{
 "cells": [
  {
   "cell_type": "markdown",
   "metadata": {},
   "source": [
    "# 1. Data Loading and Preliminary Analysis"
   ]
  },
  {
   "cell_type": "code",
   "execution_count": null,
   "metadata": {},
   "outputs": [],
   "source": [
    "import pandas as pd\n",
    "import numpy as np\n",
    "import matplotlib.pyplot as plt\n",
    "import seaborn as sns\n",
    "\n",
    "# Load the dataset\n",
    "file_path = '../data/game_events.csv'\n",
    "game_events_df = pd.read_csv(file_path)\n",
    "\n",
    "# Display the first few rows of the dataset\n",
    "game_events_df.head()\n"
   ]
  },
  {
   "cell_type": "markdown",
   "metadata": {},
   "source": [
    "## Initial Observations\n",
    "Based on the initial few rows of the `game_events.csv` dataset, here are some observations:\n",
    "\n",
    "### Structure and Key Columns:\n",
    "- `game_event_id`: A unique identifier for each game event.\n",
    "- `date`: The date when the event occurred.\n",
    "- `game_id`: Identifier for the game to which the event belongs.\n",
    "- `minute`: The minute in the game when the event happened.\n",
    "- `type`: The type of event (e.g., Cards, Goals, Substitutions).\n",
    "- `club_id`: Identifier for the club involved in the event.\n",
    "- `player_id`: Identifier for the player involved in the event.\n",
    "- `description`: A textual description of the event.\n",
    "- `player_in_id`: Identifier for a player involved in a substitution.\n",
    "- `player_assist_id`: Identifier for the player who assisted in the event (if applicable).\n",
    "\n",
    "### Data Quality and Peculiarities:\n",
    "- The dataset appears to be well-structured with clear column names.\n",
    "- There are missing values in columns like `player_in_id`, `player_assist_id`, and potentially others.\n",
    "- The `description` column contains textual data that may need further parsing or analysis.\n",
    "\n",
    "### Data Types:\n",
    "- Most of the fields appear to be numeric (IDs, minute), except for `date`, `type`, and `description`, which are textual.\n"
   ]
  },
  {
   "cell_type": "markdown",
   "metadata": {},
   "source": [
    "# Data Cleaning and Preprocessing\n",
    "\n",
    "## Handling Missing Data\n",
    "Assess the extent of missing data in each column.\n",
    "Determine appropriate strategies for each column with missing data (e.g., dropping, imputation, or using placeholders).\n",
    "\n",
    "## Data Type Conversions\n",
    "Convert the date column to a DateTime format for easier manipulation.\n",
    "Assess if any other data type conversions are required.\n",
    "\n",
    "## New Features\n",
    "Consider deriving new features from existing data if it adds value to our analysis (e.g., extracting year or month from the date)."
   ]
  },
  {
   "cell_type": "code",
   "execution_count": null,
   "metadata": {},
   "outputs": [],
   "source": [
    "# Assessing the extent of missing data in each column\n",
    "missing_data = game_events_df.isnull().sum()\n",
    "\n",
    "# Display the count of missing values for each column\n",
    "missing_data"
   ]
  },
  {
   "cell_type": "markdown",
   "metadata": {},
   "source": [
    "The `game_events_df` dataset has missing values in the following columns:\n",
    "\n",
    "- `description`: 336,325 missing values.\n",
    "- `player_in_id`: 245,309 missing values.\n",
    "- `player_assist_id`: 635,701 missing values.\n",
    "\n",
    "Proposed Actions\n",
    "\n",
    "**description Column:**\n",
    "Since it's a textual column, we could replace missing values with a placeholder like 'Not described' if the description is crucial for the analysis. If not, we might consider leaving it as is.\n",
    "\n",
    "**player_in_id and player_assist_id Columns:**\n",
    "These columns likely relate to specific types of events (e.g., substitutions, assists) and might be expected to have missing values where they are not applicable. We can replace missing values with a placeholder like -1 to indicate 'Not Applicable' or leave them as NaN if that's more suitable for analysis."
   ]
  },
  {
   "cell_type": "code",
   "execution_count": null,
   "metadata": {},
   "outputs": [],
   "source": [
    "# Checking the data types of each column\n",
    "data_types = game_events_df.dtypes\n",
    "\n",
    "data_types"
   ]
  },
  {
   "cell_type": "markdown",
   "metadata": {},
   "source": [
    "Current data types are as follows:\n",
    "\n",
    "- `game_event_id`, `date`, `type`, and `description` are of type object (usually indicating strings).\n",
    "- `game_id`, `minute`, `club_id`, and `player_id` are integers (`int64`).\n",
    "- `player_in_id` and `player_assist_id` are floating point numbers (`float64`).\n",
    "\n",
    "Proposed Actions:\n",
    "\n",
    "- Convert `date` Column: The `date` column should be converted to a `DateTime` format for easier date-related manipulations and analysis.\n",
    "- Other Columns: The current types for other columns seem appropriate. However, we can consider converting `player_in_id` and `player_assist_id` to integers if we decide to replace NaNs with a placeholder like -1.\n"
   ]
  },
  {
   "cell_type": "markdown",
   "metadata": {},
   "source": [
    "For the missing data handling:\n",
    "\n",
    "We will replace missing values in the `description` column with 'Not reported'.\n",
    "For `player_in_id` and `player_assist_id`, we will first check if these columns contain any floating point numbers. If they only contain integers, we'll convert them to integer type and replace missing values with -1. If they contain floating point numbers, we'll retain their float type and handle missing values accordingly.\n"
   ]
  },
  {
   "cell_type": "markdown",
   "metadata": {},
   "source": [
    "Let's start by checking for floating point numbers in `player_in_id` and `player_assist_id`. After that, we'll proceed with the data cleaning steps."
   ]
  },
  {
   "cell_type": "code",
   "execution_count": null,
   "metadata": {},
   "outputs": [],
   "source": [
    "# Check if player_in_id and player_assist_id contain any floating point numbers\n",
    "float_values_in_id = game_events_df['player_in_id'].apply(lambda x: x % 1).sum() > 0\n",
    "float_values_assist_id = game_events_df['player_assist_id'].apply(lambda x: x % 1).sum() > 0\n",
    "\n",
    "float_values_in_id, float_values_assist_id"
   ]
  },
  {
   "cell_type": "markdown",
   "metadata": {},
   "source": [
    "The columns `player_in_id` and `player_assist_id` do not contain any floating point numbers; all values are whole numbers. Therefore, we can safely convert these columns to integers and handle missing values with -1.\n",
    "\n",
    "We will now proceed with the following data cleaning steps:\n",
    "\n",
    "1. Replace missing values in the `description` column with 'Not reported'.\n",
    "2. Convert `player_in_id` and `player_assist_id` to integer type and replace missing values with -1.\n",
    "3. Convert the `date` column to a `DateTime` format."
   ]
  },
  {
   "cell_type": "code",
   "execution_count": null,
   "metadata": {},
   "outputs": [],
   "source": [
    "# Data Cleaning Steps\n",
    "\n",
    "# 1. Replace missing values in the description column\n",
    "game_events_df['description'].fillna('Not reported', inplace=True)\n",
    "\n",
    "# 2. Convert player_in_id and player_assist_id to integers and replace missing values with -1\n",
    "game_events_df['player_in_id'] = game_events_df['player_in_id'].fillna(-1).astype(int)\n",
    "game_events_df['player_assist_id'] = game_events_df['player_assist_id'].fillna(-1).astype(int)\n",
    "\n",
    "# 3. Convert the date column to DateTime format\n",
    "game_events_df['date'] = pd.to_datetime(game_events_df['date'])\n",
    "\n",
    "# Display the first few rows of the updated dataset to confirm changes\n",
    "game_events_df.head()"
   ]
  },
  {
   "cell_type": "markdown",
   "metadata": {},
   "source": [
    "The data cleaning steps have been successfully executed:\n",
    "\n",
    "- Missing values in the `description` column are replaced with 'Not reported'.\n",
    "- The `player_in_id` and `player_assist_id` columns are converted to integers, and missing values are replaced with -1.\n",
    "- The `date` column is converted to `DateTime` format."
   ]
  },
  {
   "cell_type": "markdown",
   "metadata": {},
   "source": [
    "The `description` appears to be quite awkwardly formatted. Let's try to clean it up a bit.\n",
    "\n",
    "\n",
    "- Trimming Leading and Trailing Spaces: Remove any spaces at the beginning and end of the strings.\n",
    "- Removing Unnecessary Punctuation: Clean up commas and other punctuation marks that are not needed.\n",
    "- Standardizing Text: Ensure consistency in the use of spaces after commas and other punctuation if needed."
   ]
  },
  {
   "cell_type": "code",
   "execution_count": null,
   "metadata": {},
   "outputs": [],
   "source": [
    "import re\n",
    "\n",
    "# Function to clean text in the description column\n",
    "def clean_text(text):\n",
    "    # Remove leading and trailing spaces\n",
    "    text = text.strip()\n",
    "    # Remove multiple spaces\n",
    "    text = re.sub(' +', ' ', text)\n",
    "    # Remove leading commas and spaces\n",
    "    text = re.sub(r'^,+', '', text)\n",
    "    text = text.strip()\n",
    "    # Remove trailing commas and spaces\n",
    "    text = re.sub(r',+$', '', text)\n",
    "    return text.strip()\n",
    "\n",
    "# Apply the cleaning function to the description column\n",
    "game_events_df['description'] = game_events_df['description'].apply(clean_text)\n",
    "\n",
    "# Display the first few rows of the updated dataset to confirm changes\n",
    "game_events_df.head()\n"
   ]
  },
  {
   "cell_type": "markdown",
   "metadata": {},
   "source": [
    "# 3. Exploratory Analysis and Visualization\n",
    "\n",
    "## Descriptive Statistics\n",
    "We'll focus on the following aspects:\n",
    "\n",
    "Summary Statistics for numeric columns like `minute`, `club_id`, `player_id`, `player_in_id`, and `player_assist_id`.\n",
    "Distribution of Event Types to see the frequency of different types of events.\n",
    "Date Range Analysis to understand the time span covered by the dataset.\n",
    "\n",
    "Let's begin with the summary statistics for the numeric columns."
   ]
  },
  {
   "cell_type": "code",
   "execution_count": null,
   "metadata": {},
   "outputs": [],
   "source": [
    "# Summary statistics for numeric columns\n",
    "numeric_summary = game_events_df[['minute', 'club_id', 'player_id', 'player_in_id', 'player_assist_id']].describe()\n",
    "\n",
    "# Frequency distribution of event types\n",
    "event_type_distribution = game_events_df['type'].value_counts()\n",
    "\n",
    "# Date range analysis\n",
    "date_range = game_events_df['date'].agg(['min', 'max'])\n",
    "\n",
    "numeric_summary, event_type_distribution, date_range"
   ]
  },
  {
   "cell_type": "markdown",
   "metadata": {},
   "source": [
    "### Numeric Columns Summary:\n",
    "\n",
    "- Minute:\n",
    "    - Range: -1 to 120 minutes (likely includes extra time and possibly pre-match events).\n",
    "    - Mean: Approximately 63.5 minutes.\n",
    "    - Standard Deviation: About 21.9 minutes, indicating variability in event timing.\n",
    "\n",
    "- Club ID:\n",
    "    - Wide range of values, potentially indicating many clubs or a varied numbering system.\n",
    "\n",
    "- Player ID:\n",
    "    - Similar to Club ID, a wide range of values.\n",
    "\n",
    "- Player In ID and Player Assist ID:\n",
    "    - Both have a large number of -1 values, as expected (to indicate 'Not Applicable').\n",
    "\n",
    "Event Type Distribution:\n",
    "\n",
    "- Substitutions: 421,908 events.\n",
    "- Goals: 180,901 events.\n",
    "- Cards: 62,473 events.\n",
    "- Shootout: 1,276 events.\n",
    "\n",
    "This distribution provides an insight into the frequency of different types of events within the dataset.\n",
    "\n",
    "Date Range:\n",
    "\n",
    "Covers events from July 3, 2012, to November 30, 2023.\n",
    "\n",
    "This timeframe allows us to understand the temporal scope of the data."
   ]
  },
  {
   "cell_type": "markdown",
   "metadata": {},
   "source": [
    "## Visualization Plan\n",
    "\n",
    "To gain a clearer understanding of the dataset's characteristics and trends, we will create the following visualizations:\n",
    "\n",
    "1. Event Type Distribution: A bar chart to visualize the frequency of different event types.\n",
    "\n",
    "2. Events Over Time: A time series plot to show how events have been distributed over the years.\n",
    "\n",
    "3. Distribution of Events by Minute: A histogram to see when most events occur during a game.\n",
    "\n",
    "These visualizations will provide valuable insights into the dataset and help in analyzing the data effectively.\n"
   ]
  },
  {
   "cell_type": "code",
   "execution_count": null,
   "metadata": {},
   "outputs": [],
   "source": [
    "# Set the aesthetic style of the plots\n",
    "sns.set_style(\"whitegrid\")\n",
    "\n",
    "# Visualization 1: Event Type Distribution\n",
    "plt.figure(figsize=(10, 6))\n",
    "sns.countplot(data=game_events_df, x='type', order=game_events_df['type'].value_counts().index)\n",
    "plt.title('Distribution of Event Types')\n",
    "plt.xlabel('Event Type')\n",
    "plt.ylabel('Frequency')\n",
    "plt.xticks(rotation=45)\n",
    "plt.show()\n",
    "\n",
    "# Visualization 2: Events Over Time\n",
    "plt.figure(figsize=(12, 6))\n",
    "game_events_df['year'] = game_events_df['date'].dt.year\n",
    "sns.countplot(data=game_events_df, x='year')\n",
    "plt.title('Number of Events Over Time')\n",
    "plt.xlabel('Year')\n",
    "plt.ylabel('Number of Events')\n",
    "plt.xticks(rotation=45)\n",
    "plt.show()\n",
    "\n",
    "# Visualization 3: Distribution of Events by Minute\n",
    "plt.figure(figsize=(12, 6))\n",
    "sns.histplot(game_events_df, x='minute', bins=60, kde=True)\n",
    "plt.title('Distribution of Events by Minute')\n",
    "plt.xlabel('Minute')\n",
    "plt.ylabel('Frequency')\n",
    "plt.xlim(-1, 120)  # Limiting to the duration of a standard match including extra time and events after the final whistle\n",
    "plt.show()\n"
   ]
  },
  {
   "cell_type": "markdown",
   "metadata": {},
   "source": [
    "1. Event Type Distribution\n",
    "\n",
    "- The bar chart reveals that Substitutions are the most frequent event type, followed by Goals, Cards, and Shootouts.\n",
    "\n",
    "- This distribution offers insights into the commonality of different events within the dataset.\n",
    "\n",
    "2. Events Over Time\n",
    "\n",
    "- The time series plot shows the number of events recorded each year.\n",
    "\n",
    "- There appears to be variation in event frequency over the years, which could be influenced by various factors like the number of games played, data collection methods, or external events.\n",
    "\n",
    "3. Distribution of Events by Minute\n",
    "\n",
    "- The histogram displays the frequency of events throughout the 120-minute span of a game (including extra time).\n",
    "- Most events seem to cluster around the latter half of the match, with a noticeable increase towards the end. This could be due to the nature of game dynamics, where more substitutions and strategic plays happen as the game progresses.\n",
    "\n",
    "These visualizations provide a deeper understanding of the dataset's characteristics. They reveal patterns in event types, temporal trends, and the distribution of events within the timeframe of a game.\n"
   ]
  },
  {
   "cell_type": "markdown",
   "metadata": {},
   "source": [
    "## In-depth Analysis - Aspect 1: Club-Specific Event Patterns"
   ]
  },
  {
   "cell_type": "code",
   "execution_count": null,
   "metadata": {},
   "outputs": [],
   "source": [
    "# Top clubs in terms of event frequency\n",
    "top_clubs = game_events_df['club_id'].value_counts().head(10)\n",
    "\n",
    "# Create a DataFrame for visualization\n",
    "top_clubs_df = game_events_df[game_events_df['club_id'].isin(top_clubs.index)]\n",
    "top_clubs_events = top_clubs_df.groupby(['club_id', 'type']).size().unstack().fillna(0)\n",
    "\n",
    "# Visualization: Types of Events per Top Club\n",
    "plt.figure(figsize=(14, 8))\n",
    "sns.heatmap(top_clubs_events, annot=True, fmt=\".0f\", cmap=\"YlGnBu\", linewidths=.5)\n",
    "plt.title('Types of Events per Top Club')\n",
    "plt.xlabel('Event Type')\n",
    "plt.ylabel('Club ID')\n",
    "plt.show()"
   ]
  },
  {
   "cell_type": "markdown",
   "metadata": {},
   "source": [
    "## Visualization: Types of Events per Top Club\n",
    "\n",
    "The heatmap displays the frequency of different event types for the top clubs in terms of overall event count. Each row represents a club (identified by Club ID), and each column represents an event type. The intensity of the color and the numbers indicate the frequency of each event type for the respective clubs.\n",
    "\n",
    "**Insights:**\n",
    "\n",
    "- There is noticeable variability in the distribution of event types across different clubs.\n",
    "- Some clubs show a higher frequency of certain event types, like Goals or Cards, which might reflect their playing style or other factors.\n",
    "\n",
    "\n",
    "This analysis provides a glimpse into how different clubs' activities vary in terms of event types. It can be insightful for understanding club-specific dynamics or for more focused analyses on specific clubs or event types.\n"
   ]
  },
  {
   "cell_type": "markdown",
   "metadata": {},
   "source": [
    "## In-depth Analysis - Aspect 2: Relationship Between Event Types and Game Progression\n",
    "\n",
    "The aim here is to understand how different types of events are distributed throughout the duration of a game. Specifically, we want to see if certain events (like Goals, Cards) are more likely to occur at specific times during a match.\n",
    "\n",
    "We will analyze the distribution of different event types over the minute range of the game. This can reveal patterns like whether more goals are scored towards the end of the match or if cards are more frequently given in certain periods."
   ]
  },
  {
   "cell_type": "code",
   "execution_count": null,
   "metadata": {},
   "outputs": [],
   "source": [
    "# Distribution of different event types over the minute range of the game\n",
    "plt.figure(figsize=(14, 8))\n",
    "\n",
    "# Filtering out only relevant event types for clarity\n",
    "relevant_types = ['Goals', 'Cards']\n",
    "filtered_df = game_events_df[game_events_df['type'].isin(relevant_types)]\n",
    "\n",
    "# Creating the plot\n",
    "sns.histplot(data=filtered_df, x='minute', hue='type', element='step', bins=24, kde=False)\n",
    "plt.title('Distribution of Goals and Cards Over Match Minutes')\n",
    "plt.xlabel('Minute of the Game')\n",
    "plt.ylabel('Frequency')\n",
    "plt.xlim(0, 120)  # Limiting to the duration of a standard match including extra time\n",
    "plt.show()"
   ]
  },
  {
   "cell_type": "markdown",
   "metadata": {},
   "source": [
    "The histogram shows the frequency of Goals and Cards throughout the duration of a match (up to 120 minutes, including extra time). Each bar represents a time segment, with different colors indicating the type of event (Goals or Cards).\n",
    "\n",
    "**Insights**:\n",
    "\n",
    "- Goals: The distribution of goals appears to have peaks towards the middle and end of the match. This might suggest increased scoring opportunities during these periods.\n",
    "\n",
    "- Cards: The issuance of cards seems to be more evenly distributed throughout the match, with a slight increase towards the end.\n",
    "\n",
    "This analysis provides insights into how the dynamics of a game might influence the occurrence of certain types of events. Understanding these patterns can be crucial for game strategies, player management, and predicting game outcomes.\n"
   ]
  },
  {
   "cell_type": "markdown",
   "metadata": {},
   "source": [
    "## In-depth Analysis - Aspect 3: Player-Specific Analysis\n",
    "\n",
    "In this part, we aim to explore the involvement of players in different events. Specifically, we'll look at:\n",
    "\n",
    "- Top Players in Terms of Event Participation: Identifying players who are most frequently involved in events.\n",
    "- Event Type Breakdown for Top Players: Analyzing the types of events these top players are mostly involved in.\n",
    "\n",
    "This analysis can reveal which players are most active or influential in games, based on their event participation. Let's proceed with identifying the top players in terms of event involvement."
   ]
  },
  {
   "cell_type": "code",
   "execution_count": null,
   "metadata": {},
   "outputs": [],
   "source": [
    "# Top players in terms of event participation\n",
    "top_players = game_events_df['player_id'].value_counts().head(10)\n",
    "\n",
    "# Create a DataFrame for visualization\n",
    "top_players_df = game_events_df[game_events_df['player_id'].isin(top_players.index)]\n",
    "top_players_events = top_players_df.groupby(['player_id', 'type']).size().unstack().fillna(0)\n",
    "\n",
    "# Visualization: Event Type Breakdown for Top Players\n",
    "plt.figure(figsize=(14, 8))\n",
    "sns.heatmap(top_players_events, annot=True, fmt=\".0f\", cmap=\"YlOrRd\", linewidths=.5)\n",
    "plt.title('Event Type Breakdown for Top Players')\n",
    "plt.xlabel('Event Type')\n",
    "plt.ylabel('Player ID')\n",
    "plt.show()"
   ]
  },
  {
   "cell_type": "markdown",
   "metadata": {},
   "source": [
    "- The heatmap represents the frequency of different event types for the top players, identified by their Player ID\n",
    "- The color intensity and annotations show the count of each event type for these players.\n",
    "\n",
    "**Insights:**\n",
    "\n",
    "- This visualization highlights which players are most frequently involved in certain types of events, like Goals, Cards, or Substitutions.\n",
    "- It provides a clear picture of player-specific activity within games, revealing patterns about their involvement, such as whether they are more likely to score, assist, or receive cards.\n",
    "- Understanding player-specific patterns can be essential for team management, player performance analysis, and scouting. It offers valuable insights into the roles and impact of players in games.\n"
   ]
  },
  {
   "cell_type": "markdown",
   "metadata": {},
   "source": [
    "## Delving Deeper \n",
    "\n",
    "Now, the IDs might not mean all that much to us. Let's try to find out the names of these players.\n",
    "\n",
    "In the interest of time, we'll only be doing the cross-referencing in this notebook. In a production environment, all of these visualizations will be accessible in a readable format through a separate Jupyter Notebook dashboard."
   ]
  },
  {
   "cell_type": "code",
   "execution_count": null,
   "metadata": {},
   "outputs": [],
   "source": [
    "# Try to load a cleaned version of the players dataset first. If it doesn't exist, load the original dataset\n",
    "try:\n",
    "    file_path = '../data/cleaned/players_cleaned.csv'\n",
    "    players_df = pd.read_csv(file_path)\n",
    "except FileNotFoundError:\n",
    "    file_path = '../data/players.csv.csv'\n",
    "    players_df = pd.read_csv(file_path)\n",
    "\n",
    "# Make a copy of our previous DataFrame, which we will save as a CSV file later on\n",
    "game_events_df_copy = game_events_df.copy()\n",
    "\n",
    "players_df.head()"
   ]
  },
  {
   "cell_type": "markdown",
   "metadata": {},
   "source": [
    "The `players_cleaned.csv` dataset provides detailed information about players, including:\n",
    "\n",
    "- `player_id`: Unique identifier for each player, which we can use to link to our `game_events_df` dataset.\n",
    "- `first_name` and `last_name`: Names of the players.\n",
    "- `name`: Full name of the player.\n",
    "- Other attributes such as `last_season`, `current_club_id`, `country_of_birth`, `city_of_birth`, `height_in_cm`, `market_value_in_eur`, etc.\n",
    "\n",
    "For our current analysis, the most relevant columns are `player_id` and `name`. We can use these to map player IDs in our `game_events_df` to their names.\n",
    "\n",
    "Next steps:\n",
    "\n",
    "1. Merge `game_events_df` with `players_df` based on `player_id`.\n",
    "2. Update the analysis to include player names instead of IDs.\n",
    "\n",
    "Let's proceed with merging the datasets and then re-run the player-specific event analysis with player names."
   ]
  },
  {
   "cell_type": "code",
   "execution_count": null,
   "metadata": {},
   "outputs": [],
   "source": [
    "# Merging the game_events_df with players_df to include player names\n",
    "game_events_with_player_names_df = pd.merge(game_events_df, players_df[['player_id', 'name']], \n",
    "                                            on='player_id', \n",
    "                                            how='left')\n",
    "\n",
    "# Top players in terms of event participation with names\n",
    "top_players_with_names = game_events_with_player_names_df['name'].value_counts().head(10)\n",
    "\n",
    "# Create a DataFrame for visualization including player names\n",
    "top_players_names_df = game_events_with_player_names_df[game_events_with_player_names_df['name'].isin(top_players_with_names.index)]\n",
    "top_players_names_events = top_players_names_df.groupby(['name', 'type']).size().unstack().fillna(0)\n",
    "\n",
    "# Visualization: Event Type Breakdown for Top Players (with names)\n",
    "plt.figure(figsize=(14, 8))\n",
    "sns.heatmap(top_players_names_events, annot=True, fmt=\".0f\", cmap=\"Blues\", linewidths=.5)\n",
    "plt.title('Event Type Breakdown for Top Players (With Names)')\n",
    "plt.xlabel('Event Type')\n",
    "plt.ylabel('Player Name')\n",
    "plt.show()"
   ]
  },
  {
   "cell_type": "markdown",
   "metadata": {},
   "source": [
    "## Visualization: Event Type Breakdown for Top Players (With Names)\n",
    "\n",
    "The heatmap now includes player names, providing a more intuitive view of the event participation of individual players. Different event types (like Goals, Cards, Substitutions) are shown for each player.\n",
    "\n",
    "**Insights:**\n",
    "\n",
    "- This visualization makes it easier to identify which players are most active in specific types of events.\n",
    "- It helps in understanding the roles and contributions of these top players in games, such as who scores the most goals or who is more likely to be involved in substitutions.\n",
    "- This analysis, enhanced with player names, offers a clearer and more meaningful understanding of player activities and their impact on games.\n",
    "\n",
    "\n",
    "\n",
    "Now that that's clearer, let's wrap up this analysis by summarizing the key findings and takeaways."
   ]
  },
  {
   "cell_type": "markdown",
   "metadata": {},
   "source": [
    "# 4. Insights and Conclusions\n",
    "\n",
    "## Key Findings\n",
    "\n",
    "- Event Type Distribution: Substitutions are the most common event, followed by goals and cards.\n",
    "- Temporal Trends: The number of events varies across years, and most goals and cards occur in the latter half of matches.\n",
    "- Club-Specific Patterns: Different clubs show varying frequencies of event types, which might reflect distinct playing styles or strategies.\n",
    "- Player Involvement: Certain players are more frequently involved in specific types of events, which can indicate their roles and impact in games.\n",
    "\n",
    "## Limitations\n",
    "\n",
    "- Data Completeness: The dataset may not cover all relevant aspects of game events (e.g., detailed player actions, precise event timings).\n",
    "- External Factors: Factors not captured in the dataset (such as game conditions, player injuries, or tactical decisions) can significantly influence event occurrences.\n",
    "\n",
    "## Recommendations/Conclusions\n",
    "\n",
    "- Strategic Decisions: Clubs and coaches can use these insights for strategic planning and player management.\n",
    "- Further Research: Additional data (like player performance metrics or team strategies) could enrich the analysis for more comprehensive insights."
   ]
  },
  {
   "cell_type": "markdown",
   "metadata": {},
   "source": [
    "# Saving the cleaned data"
   ]
  },
  {
   "cell_type": "code",
   "execution_count": null,
   "metadata": {},
   "outputs": [],
   "source": [
    "# Save the cleaned DataFrame to a new CSV file\n",
    "cleaned_data_path = '../data/cleaned/game_events_cleaned.csv'\n",
    "game_events_df_copy.to_csv(cleaned_data_path, index=False)"
   ]
  }
 ],
 "metadata": {
  "kernelspec": {
   "display_name": "iumtweb_env",
   "language": "python",
   "name": "python3"
  },
  "language_info": {
   "codemirror_mode": {
    "name": "ipython",
    "version": 3
   },
   "file_extension": ".py",
   "mimetype": "text/x-python",
   "name": "python",
   "nbconvert_exporter": "python",
   "pygments_lexer": "ipython3",
   "version": "3.9.9"
  }
 },
 "nbformat": 4,
 "nbformat_minor": 2
}

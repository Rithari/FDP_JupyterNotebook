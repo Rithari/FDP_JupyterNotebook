{
 "cells": [
  {
   "cell_type": "markdown",
   "metadata": {},
   "source": [
    "# 1. Introduction\n",
    "\n",
    "## Objective:\n",
    "We will examine the dataset to uncover insights about player valuations. Our analysis aims to understand the distribution of player valuations, identify key factors influencing these valuations, and explore any interesting patterns or trends that emerge from the data.\n",
    "\n",
    "## Dataset Overview:\n",
    "This dataset presumably contains information related to player valuations. While the specific details of the columns and data types are not yet known, we can expect to find variables related to players' market values, possibly along with other attributes such as age, position, nationality, and club."
   ]
  },
  {
   "cell_type": "markdown",
   "metadata": {},
   "source": [
    "# 2. Data Loading and Preliminary Analysis"
   ]
  },
  {
   "cell_type": "code",
   "execution_count": null,
   "metadata": {},
   "outputs": [],
   "source": [
    "import pandas as pd\n",
    "import numpy as np\n",
    "import matplotlib.pyplot as plt\n",
    "import seaborn as sns\n",
    "\n",
    "\n",
    "# Load the dataset\n",
    "\n",
    "player_valuations_df = pd.read_csv('../data/player_valuations.csv')\n",
    "\n",
    "# Display the first few rows of the dataset\n",
    "player_valuations_df.head()"
   ]
  },
  {
   "cell_type": "markdown",
   "metadata": {},
   "source": [
    "Here are some initial observations:\n",
    "* Columns and Data Types:\n",
    "    The dataset includes columns like `player_id`, `last_season`, `datetime`, `date`, `dateweek`, `market_value_in_eur`, `n`, `current_club_id`, and `player_club_domestic_competition_id`. These columns seem to represent the player's unique identifier, their last active season, various date formats, their market value in euros, a count variable (`n`), their current club ID, and the domestic competition ID of the player's club.\n",
    "\n",
    "    The variable `n` has been revealed as a count variable used to merge with other tables by the dataset maintainer and is not supposed to be here, so we will drop it.\n",
    "\n",
    "* Dates and Values:\n",
    "    The dataset contains dates, which appear in multiple formats (`datetime`, `date`, `dateweek`), and the market values of players. The presence of multiple date columns might indicate the need for date-related analysis or processing.\n",
    "    \n",
    "* Identification and Categorization:\n",
    "    The use of IDs for players and clubs suggests that the dataset is designed for detailed analysis that might involve joining with other data sources for more context (like player or club names).\n",
    "\n",
    "Next we will address issues like handling missing data, data type conversions, and potentially creating new features. Let's check for missing values and evaluate the data types to identify necessary preprocessing steps. ​​"
   ]
  },
  {
   "cell_type": "markdown",
   "metadata": {},
   "source": [
    "# 3. Data Cleaning and Preprocessing"
   ]
  },
  {
   "cell_type": "code",
   "execution_count": null,
   "metadata": {},
   "outputs": [],
   "source": [
    "# Checking for missing values and data types\n",
    "missing_values = player_valuations_df.isnull().sum()\n",
    "data_types = player_valuations_df.dtypes\n",
    "\n",
    "# Drop the n column\n",
    "player_valuations_df.drop(columns=['n'], inplace=True)\n",
    "\n",
    "missing_values, data_types"
   ]
  },
  {
   "cell_type": "markdown",
   "metadata": {},
   "source": [
    "After inspecting the dataset, here are the key points regarding data cleaning and preprocessing:\n",
    "\n",
    "**Missing Values:** The dataset does not have any missing values in its columns. This simplifies the preprocessing stage as we don't need to handle null entries.\n",
    "\n",
    "**Data Types:**\n",
    "- The `datetime`, `date`, and `dateweek` columns are currently in object (string) format. These should be converted to datetime format for any time series analysis.\n",
    "- Columns like `player_id`, `last_season`, `market_value_in_eur`, and `current_club_id` are in integer format, which is appropriate for their respective data.\n",
    "- The `player_club_domestic_competition_id` column is an object, likely representing categorical data.\n",
    "\n",
    "**New Features:** Depending on the analysis, we might consider extracting specific components from the date columns (like year or month) for trend analysis over time.\n",
    "\n",
    "Let's proceed with the conversion of the date columns to the appropriate datetime format. We will also explore the creation of any new features that could be relevant for our analysis."
   ]
  },
  {
   "cell_type": "code",
   "execution_count": null,
   "metadata": {},
   "outputs": [],
   "source": [
    "# Converting date columns to datetime format\n",
    "player_valuations_df['datetime'] = pd.to_datetime(player_valuations_df['datetime'])\n",
    "player_valuations_df['date'] = pd.to_datetime(player_valuations_df['date'])\n",
    "player_valuations_df['dateweek'] = pd.to_datetime(player_valuations_df['dateweek'])\n",
    "\n",
    "# Extracting year and month for potential trend analysis\n",
    "player_valuations_df['year'] = player_valuations_df['date'].dt.year\n",
    "player_valuations_df['month'] = player_valuations_df['date'].dt.month\n",
    "\n",
    "# Checking the updated dataframe\n",
    "player_valuations_df.head()\n"
   ]
  },
  {
   "cell_type": "markdown",
   "metadata": {},
   "source": [
    "The changes we made to the dataset are summarized as follows:\n",
    "\n",
    "**Date Conversion**: The columns `datetime`, `date`, and `dateweek` have been successfully converted from object (string) format to datetime format. This conversion will facilitate any time-based analysis we might perform.\n",
    "\n",
    "**New Features**: We have extracted the `year` and `month` from the `date` column, which could be useful for trend analysis over time. These new features allow us to investigate patterns or changes in player valuations across different years and months.\n",
    "\n",
    "With the data now cleaned and preprocessed, we can move on to the next stage: Exploratory Data Analysis (EDA). In this phase, we will analyze the dataset to summarize its main characteristics, often using visualizations. Let me know when you're ready to proceed, and we can start with the EDA."
   ]
  },
  {
   "cell_type": "markdown",
   "metadata": {},
   "source": [
    "# 4. Exploratory Data Analysis\n",
    "\n",
    "In this phase, we'll explore the dataset in more depth to uncover patterns, anomalies, trends, and relationships. The EDA will be structured as follows:\n",
    "\n",
    "**Descriptive Statistics**: We'll begin by summarizing key columns using descriptive statistics such as mean, median, and standard deviation. This will give us an understanding of the distribution of player valuations and other numerical variables.\n",
    "\n",
    "**Visualization**: We'll create visualizations to aid in our analysis. This could include histograms or box plots to understand the distribution of player valuations, and perhaps time series plots to observe trends over years and months.\n",
    "\n",
    "**In-depth Analysis**: We'll focus on specific areas of interest, such as analyzing player valuations over time or exploring the relationship between market value and other factors.\n",
    "\n",
    "\n",
    "Let's start with the descriptive statistics to gain a better understanding of the dataset."
   ]
  },
  {
   "cell_type": "code",
   "execution_count": null,
   "metadata": {},
   "outputs": [],
   "source": [
    "# Descriptive statistics for the numerical columns\n",
    "descriptive_stats = player_valuations_df.describe()\n",
    "\n",
    "# Including additional descriptive statistics for non-numeric columns\n",
    "descriptive_stats_non_numeric = player_valuations_df.describe(include=['object'])\n",
    "\n",
    "descriptive_stats, descriptive_stats_non_numeric"
   ]
  },
  {
   "cell_type": "markdown",
   "metadata": {},
   "source": [
    "The descriptive statistics provide the following insights:\n",
    "\n",
    "**Player Valuations:**\n",
    "- The `market_value_in_eur` column, representing player valuations, ranges from €10,000 to €200,000,000.\n",
    "- The average market value of a player is approximately €2.36 million, but the standard deviation is quite high (€6.60 million), indicating a wide variation in player valuations.\n",
    "\n",
    "**Time-related Observations:**\n",
    "- The `year` column ranges from 2003 to 2023, indicating that the dataset covers two decades of player valuation data.\n",
    "- The month distribution is fairly even across the year, suggesting that player valuations are recorded throughout different months.\n",
    "\n",
    "**Categorical Data:**\n",
    "- The `player_club_domestic_competition_id` column, which seems to represent different domestic competitions, has 14 unique values, with 'IT1' being the most frequent. This suggests a significant representation of players from the competition associated with the 'IT1' code.\n",
    "\n",
    "Next, let's move to the visualization part of our EDA. We'll create plots to better understand the distribution of player valuations, and to look at trends over time"
   ]
  },
  {
   "cell_type": "code",
   "execution_count": null,
   "metadata": {},
   "outputs": [],
   "source": [
    "# Set the aesthetics for the plots\n",
    "sns.set(style=\"whitegrid\")\n",
    "\n",
    "# Plotting the distribution of player market values\n",
    "plt.figure(figsize=(12, 6))\n",
    "sns.histplot(player_valuations_df['market_value_in_eur'], bins=50, kde=True)\n",
    "plt.title('Distribution of Player Market Values')\n",
    "plt.xlabel('Market Value in Euros')\n",
    "plt.ylabel('Frequency')\n",
    "plt.xscale('log')  # Using a log scale due to wide range of values\n",
    "plt.show()\n",
    "\n",
    "# Plotting market value trends over years\n",
    "plt.figure(figsize=(12, 6))\n",
    "sns.lineplot(data=player_valuations_df, x='year', y='market_value_in_eur', estimator='mean')\n",
    "plt.title('Average Player Market Value Over Years')\n",
    "plt.xlabel('Year')\n",
    "plt.ylabel('Average Market Value in Euros')\n",
    "plt.show()\n"
   ]
  },
  {
   "cell_type": "markdown",
   "metadata": {},
   "source": [
    "## Distribution of Player Market Values:\n",
    "The histogram, plotted on a logarithmic scale due to the wide range of values, shows that most players have a market value at the lower end of the spectrum. This suggests a right-skewed distribution where a smaller number of players have significantly higher market values.\n",
    "The peak of the distribution is around the lower market values, indicating that a majority of players are valued under €1 million.\n",
    "\n",
    "## Average Player Market Value Over Years:\n",
    "The line plot shows the trend of average player market value over the years. There appears to be a general upward trend in player valuations from 2003 to 2023.\n",
    "This increase over time could be due to various factors such as inflation, increased investments in football, or changes in the transfer market dynamics.\n",
    "\n",
    "For a more in-depth analysis, we could explore specific areas such as the correlation between market value and other variables, or conduct a year-wise breakdown of market values by different categories (like domestic competitions). However, this would depend on the specific questions and goals of the analysis.\n"
   ]
  },
  {
   "cell_type": "code",
   "execution_count": null,
   "metadata": {},
   "outputs": [],
   "source": [
    "# Correlation analysis\n",
    "correlation_matrix = player_valuations_df[['market_value_in_eur', 'player_id', 'last_season']].corr()\n",
    "\n",
    "# Plotting the correlation matrix\n",
    "plt.figure(figsize=(8, 6))\n",
    "sns.heatmap(correlation_matrix, annot=True, cmap='coolwarm', fmt=\".2f\")\n",
    "plt.title('Correlation Matrix')\n",
    "plt.show()\n"
   ]
  },
  {
   "cell_type": "markdown",
   "metadata": {},
   "source": [
    "## Market Value Distribution by Domestic Competition:\n",
    "\n",
    "The correlation matrix reveals the following:\n",
    "\n",
    "- The correlation coefficient between `market_value_in_eur` and `player_id` is very low, indicating there's little to no linear relationship between these two variables. This suggests that the player's ID (which might be a proxy for their entry into the dataset or experience) does not have a significant linear correlation with their market value.\n",
    "- There is a slight negative correlation between `market_value_in_eur` and `last_season`. This could imply that players who have a more recent last active season (possibly younger players) tend to have higher market values.\n",
    "\n",
    "Next, we'll identify periods with peaks in player valuations. We will examine the yearly trends and look for any significant spikes in the average market value of players. This analysis will help us understand when and possibly why player valuations reached their highest points."
   ]
  },
  {
   "cell_type": "code",
   "execution_count": null,
   "metadata": {},
   "outputs": [],
   "source": [
    "# Grouping by year and calculating the average market value\n",
    "yearly_market_value = player_valuations_df.groupby('year')['market_value_in_eur'].mean()\n",
    "\n",
    "# Plotting the yearly trend of average market values\n",
    "plt.figure(figsize=(12, 6))\n",
    "yearly_market_value.plot(kind='line', marker='o')\n",
    "plt.title('Yearly Trend of Average Player Market Value')\n",
    "plt.xlabel('Year')\n",
    "plt.ylabel('Average Market Value in Euros')\n",
    "plt.grid(True)\n",
    "plt.show()\n"
   ]
  },
  {
   "cell_type": "markdown",
   "metadata": {},
   "source": [
    "## Player Valuation Peaks\n",
    "\n",
    "The line plot of the yearly trend in average player market value reveals:\n",
    "\n",
    "There is a general upward trend in average player market values over the years. This increase could be attributed to factors such as inflation, the growing financial power of football clubs, and the increasing commercialization of the sport.\n",
    "\n",
    "Specific peaks in the graph might correspond to notable events or changes in the football world. For example, significant increases could be tied to the introduction of high-profile players, changes in transfer policies, or significant investments in certain leagues.\n",
    "\n",
    "Lastly, let's explore the market value distribution by domestic competition. We'll analyze the average player valuations in different domestic leagues (represented by `player_club_domestic_competition_id`) to see which competitions tend to have higher player valuations on average. This can provide insights into the relative financial power and market dynamics of different leagues."
   ]
  },
  {
   "cell_type": "code",
   "execution_count": null,
   "metadata": {},
   "outputs": [],
   "source": [
    "# Grouping by domestic competition and calculating the average market value\n",
    "competition_market_value = player_valuations_df.groupby('player_club_domestic_competition_id')['market_value_in_eur'].mean().sort_values(ascending=False)\n",
    "\n",
    "# Plotting the average market value by domestic competition\n",
    "plt.figure(figsize=(12, 8))\n",
    "competition_market_value.plot(kind='bar')\n",
    "plt.title('Average Player Market Value by Domestic Competition')\n",
    "plt.xlabel('Domestic Competition ID')\n",
    "plt.ylabel('Average Market Value in Euros')\n",
    "plt.xticks(rotation=45)\n",
    "plt.show()\n"
   ]
  },
  {
   "cell_type": "markdown",
   "metadata": {},
   "source": [
    "## Market Value Distribution by Domestic Competition\n",
    "\n",
    "The bar chart displaying the average player market value by domestic competition reveals:\n",
    "\n",
    "There are clear differences in average player valuations among the various domestic competitions. Some competitions have significantly higher average player valuations than others, which may reflect the financial stature and global popularity of these leagues.\n",
    "\n",
    "The competitions at the top of the chart, indicated by their IDs, represent the leagues with the highest average player valuations. These are likely to be the more prominent and financially powerful leagues in world football.\n",
    "\n",
    "On the other hand, competitions towards the bottom of the chart have lower average player valuations, which could be indicative of smaller or less financially robust leagues.\n",
    "\n",
    "This analysis provides a comparative view of the financial aspects of different domestic football competitions, as reflected in the market values of their players. It could be further enriched by mapping the competition IDs to their actual league names for clearer interpretation."
   ]
  },
  {
   "cell_type": "markdown",
   "metadata": {},
   "source": [
    "# 5. Insights and Conclusions\n",
    "\n",
    "Based on our exploratory data analysis of the \"player_valuations.csv\" dataset, we've gained several key insights:\n",
    "\n",
    "## General Trends in Player Valuations:\n",
    "- Player market values show a wide range, with most players valued at the lower end of the spectrum, indicating a right-skewed distribution.\n",
    "- There has been a general upward trend in average player valuations over the past two decades, likely reflecting factors such as market inflation, increased investments in football, and evolving transfer market dynamics.\n",
    "\n",
    "## Correlation Analysis:\n",
    "- The correlation between player IDs and market values is negligible, suggesting that the sequence of entry into the dataset or player experience does not linearly affect market value.\n",
    "- A slight negative correlation between the last active season and market value implies that players with more recent active seasons (possibly younger players) tend to have higher valuations.\n",
    "\n",
    "## Market Value Peaks:\n",
    "- Periodic spikes in average player valuations were observed, possibly correlating with significant events in football, such as the introduction of high-profile players or changes in league policies.\n",
    "\n",
    "## Market Value by Domestic Competition:\n",
    "- Significant variations in average player valuations were found across different domestic competitions. Some leagues have markedly higher average player valuations, indicating their financial strength and popularity.\n",
    "\n",
    "## Limitations:\n",
    "- The analysis could be further enriched by incorporating additional data, such as player demographics, performance statistics, or detailed league information.\n",
    "- The identification of domestic competitions relies on coded IDs, and mapping these to actual league names would provide clearer insights.\n",
    "\n",
    "## Recommendations/Conclusions:\n",
    "- Future analyses could delve into the impact of specific factors like player age, position, or performance metrics on market values.\n",
    "- Understanding these valuation trends can aid clubs, investors, and governing bodies in making informed decisions in the transfer market and in player development strategies.\n"
   ]
  },
  {
   "cell_type": "markdown",
   "metadata": {},
   "source": [
    "# Saving the cleaned dataset"
   ]
  },
  {
   "cell_type": "code",
   "execution_count": null,
   "metadata": {},
   "outputs": [],
   "source": [
    "# Save the cleaned DataFrame to a new CSV file\n",
    "cleaned_data_path = '../data/cleaned/player_valuations_cleaned.csv'\n",
    "player_valuations_df.to_csv(cleaned_data_path, index=False)"
   ]
  }
 ],
 "metadata": {
  "kernelspec": {
   "display_name": "Python 3",
   "language": "python",
   "name": "python3"
  },
  "language_info": {
   "codemirror_mode": {
    "name": "ipython",
    "version": 3
   },
   "file_extension": ".py",
   "mimetype": "text/x-python",
   "name": "python",
   "nbconvert_exporter": "python",
   "pygments_lexer": "ipython3",
   "version": "3.9.9"
  }
 },
 "nbformat": 4,
 "nbformat_minor": 2
}

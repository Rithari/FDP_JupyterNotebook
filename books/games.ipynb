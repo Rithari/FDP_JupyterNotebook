{
 "cells": [
  {
   "cell_type": "markdown",
   "metadata": {},
   "source": [
    "# 1. Introduction\n",
    "\n",
    "## Objective\n",
    "The `games.csv` dataset seems to contain data about various games. Our aim is to explore this dataset to uncover insights into the nature of these games, patterns, and any significant trends. We will focus on understanding the key characteristics of the games, such as their frequency, participants, and any other unique aspects they may have.\n",
    "\n",
    "## Data Overview\n",
    "At this stage, we expect the dataset to include information about different games, possibly including game IDs, dates, participants, locations, and outcomes. The exact nature and size of the dataset will become clear once we load and inspect it.\n",
    "\n",
    "ignore below \n",
    "`game_id`: Unique identifier for each game.\n",
    "`competition_id`, season, round: Information about the competition, season, and matchday.\n",
    "`date`: Date of the game.\n",
    "`home_club_id`, away_club_id: Identifiers for the home and away teams.\n",
    "`home_club_goals`, away_club_goals: Goals scored by the home and away teams.\n",
    "`home_club_position`, away_club_position: League positions of the teams.\n",
    "`stadium, attendance`: Information about the venue and number of spectators.\n",
    "`referee`: Name of the referee for the game.\n",
    "`url`: Link to the game's page on a website.\n",
    "`home_club_formation`, `away_club_formation`: Team formations.\n",
    "`home_club_name`, away_club_name: Names of the participating clubs.\n",
    "`aggregate`, competition_type: Additional details about the game's context and competition type.\n",
    "\n",
    "\n",
    "# 2. Data Loading and Preliminary Analysis\n",
    "Let's proceed with loading the data to gain an initial understanding of its structure and content."
   ]
  },
  {
   "cell_type": "code",
   "execution_count": null,
   "metadata": {},
   "outputs": [],
   "source": [
    "import pandas as pd\n",
    "import numpy as np\n",
    "import matplotlib.pyplot as plt\n",
    "import seaborn as sns\n",
    "\n",
    "# Load the dataset\n",
    "games_df = pd.read_csv(\"../data/games.csv\")\n",
    "\n",
    "# Display the first few rows of the dataframe\n",
    "games_df.head()\n"
   ]
  },
  {
   "cell_type": "markdown",
   "metadata": {},
   "source": [
    "The dataset contains information about various games, including:\n",
    "\n",
    "- Game Identifiers: Columns like `game_id`, `competition_id`, and `season` are likely to uniquely identify each game.\n",
    "\n",
    "- Game Details: Information about the game round (`round`), date (`date`), participating clubs (`home_club_id`, `away_club_id`), goals scored (`home_club_goals`, `away_club_goals`), and the positions of clubs (`home_club_position`, `away_club_position`).\n",
    "\n",
    "- Additional Information: Data on the stadium (`stadium`), attendance (`attendance`), referee (`referee`), and URL (`url`) related to the game.\n",
    "\n",
    "- Club Information: Names of the home and away clubs (`home_club_name`, `away_club_name`), and possibly their formations (`home_club_formation`, `away_club_formation`).\n",
    "\n",
    "- Competition Type: A column (`competition_type`) indicating the nature of the competition, like a domestic league.\n",
    "\n",
    "There are several columns with potentially missing data, such as `home_club_formation` and `away_club_formation`."
   ]
  },
  {
   "cell_type": "markdown",
   "metadata": {},
   "source": [
    "## Exploring Missing Data\n",
    "To ensure our analysis is based on robust and reliable data, we need to understand the extent and nature of any missing data in the dataset. This will help us make informed decisions about whether to retain or drop certain columns.\n",
    "\n",
    "Let's examine the dataset to identify the proportion of missing data in each column. This will provide us with a clear picture of the dataset's completeness and guide us in deciding how to handle columns with significant amounts of missing data.\n",
    "\n",
    "## Potential Impact on Analysis\n",
    "As we explore the missing data, it's crucial to consider how its presence or absence could affect our analysis. Columns with a large proportion of missing data might not offer reliable insights and could skew our understanding of the dataset. In such cases, dropping these columns might be the best course of action to maintain the integrity of our analysis.\n",
    "\n",
    "## Analysis of Missing Data\n"
   ]
  },
  {
   "cell_type": "code",
   "execution_count": null,
   "metadata": {},
   "outputs": [],
   "source": [
    "# Calculating the proportion of missing data in each column\n",
    "missing_data = games_df.isnull().mean() * 100\n",
    "\n",
    "# Displaying the percentage of missing data for each column\n",
    "missing_data_df = pd.DataFrame(missing_data, columns=['% Missing Data'])\n",
    "missing_data_df.sort_values(by='% Missing Data', ascending=False)"
   ]
  },
  {
   "cell_type": "markdown",
   "metadata": {},
   "source": [
    "Upon examining the dataset, we find that certain columns have a significant proportion of missing data:\n",
    "\n",
    "- Home and Away Club Formations: Both `home_club_formation` and `away_club_formation` columns have approximately 95.6% of their data missing. This is a substantial portion, indicating that these columns are largely incomplete.\n",
    "\n",
    "- Club Positions: The `home_club_position` and `away_club_position` columns are missing around 29.83% of their data. While not as high as the formations, this is still a considerable amount.\n",
    "\n",
    "- Club Names: `home_club_name` and `away_club_name` have missing data at 17.25% and 15.41%, respectively.\n",
    "\n",
    "- Attendance: Approximately 14.59% of the attendance data is missing.\n",
    "\n",
    "- Manager Names and Referee Information: Missing data in `home_club_manager_name`, `away_club_manager_name`, and `referee` columns is relatively lower, ranging from around 0.91% to 1.14%.\n",
    "\n",
    "Considering the substantial missing data in the formations columns, we face a decision. Given the high level of incompleteness, these columns may not provide reliable insights for our analysis. It seems prudent to consider dropping these columns to maintain the analytical integrity of our dataset. This decision aligns with our objective of ensuring that our analysis is based on robust and complete data.\n",
    "\n",
    "For the other columns with missing data, we can explore different strategies, like imputation or categorization with a placeholder like \"Unknown,\" depending on their relevance to our analysis objectives and the proportion of missing data."
   ]
  },
  {
   "cell_type": "markdown",
   "metadata": {},
   "source": [
    "# 3. Data Cleaning and Preprocessing\n",
    "Now that we have a better understanding of the dataset, we can proceed with cleaning and preprocessing it to make it more suitable for analysis. \n",
    "\n",
    "## Dropping Formations Columns\n",
    "Given the high percentage (approximately 95.6%) of missing data in the `home_club_formation` and `away_club_formation` columns, we will remove these columns from our dataset."
   ]
  },
  {
   "cell_type": "code",
   "execution_count": null,
   "metadata": {},
   "outputs": [],
   "source": [
    "# Dropping the 'home_club_formation' and 'away_club_formation' columns\n",
    "games_df.drop(['home_club_formation', 'away_club_formation'], axis=1, inplace=True)\n",
    "\n",
    "# Re-calculating the percentage of missing data for the remaining columns\n",
    "missing_data_updated = games_df.isnull().mean() * 100\n",
    "missing_data_updated_df = pd.DataFrame(missing_data_updated, columns=['% Missing Data'])\n",
    "missing_data_updated_df.sort_values(by='% Missing Data', ascending=False)\n"
   ]
  },
  {
   "cell_type": "markdown",
   "metadata": {},
   "source": [
    "## Assessing Other Columns with Missing Data\n",
    "\n",
    "For each of the remaining columns with missing data (`home_club_position`, `away_club_position`, `home_club_name`, `away_club_name`, `attendance`, `home_club_manager_name`, `away_club_manager_name`, `referee`, `stadium`), we will:\n",
    "\n",
    "- Consider the percentage of missing data.\n",
    "- Evaluate the relevance of each column to our analysis objectives.\n",
    "- Decide on an appropriate action, such as imputation, categorization with a placeholder, or in certain cases, possibly dropping the column if its missing data percentage is too high and not critical to our analysis.\n",
    "\n",
    "Let's start by dropping the formation columns and then proceed to assess the other columns with missing data.\n",
    "\n",
    "## Updated Analysis of Missing Data\n",
    "\n",
    "With the `home_club_formation` and `away_club_formation` columns removed, here's the updated overview of missing data in the dataset:\n",
    "\n",
    "- Club Positions (`away_club_position` and `home_club_position`): Both of these columns still have a considerable amount of missing data, about 29.83%. Given that these columns could provide valuable insights into the performance and ranking of the clubs at the time of the game, we might consider handling these missing values carefully. Options could include imputation or categorizing the missing data as \"Unknown\". However, any imputation should be done cautiously to avoid introducing bias.\n",
    "\n",
    "- Club Names (`home_club_name` and `away_club_name`): These columns are missing 17.25% and 15.41% of their data, respectively. Given the importance of club names for identification and analysis, we might replace missing values with a placeholder like \"Not Available\" or \"Unknown\". This approach retains the row's other data while acknowledging the absence of specific information.\n",
    "\n",
    "- Attendance: About 14.59% of attendance data is missing. If attendance figures are not central to our primary analysis objectives, we might fill these missing values with a placeholder or an average value, depending on the nature of our analysis.\n",
    "\n",
    "- Manager Names and Referee: The `home_club_manager_name`, `away_club_manager_name`, and `referee` columns have relatively low levels of missing data (around 1.14% and 0.91%, respectively). We could consider replacing missing values with \"Unknown\" to maintain data integrity without significantly impacting the overall dataset.\n",
    "\n",
    "- Stadium: Only 0.32% of data is missing in the `stadium` column. Similar to the manager and referee columns, replacing missing values with \"Unknown\" could be a viable solution.\n"
   ]
  },
  {
   "cell_type": "markdown",
   "metadata": {},
   "source": [
    "# Addressing Missing Data\n",
    "\n",
    "- Club Positions (`away_club_position` and `home_club_position`):\n",
    "Given the significant role of a club's position in analyses and the high level of missing data (29.83%), imputation is not a viable option due to the potential bias it could introduce. The most appropriate approach is to replace missing values with \"Unknown\". This acknowledges the absence of the data while maintaining the integrity of the remaining dataset.\n",
    "\n",
    "- Club Names (`home_club_name` and `away_club_name`):\n",
    "The absence of club names in a dataset about games is problematic, as it directly impacts the ability to link data to specific clubs and their performance. Before deciding to drop these rows, we should check if the club names can be derived from other data within the same row, such as club IDs. If not, dropping these rows might be the most sensible action since the lack of club identification severely limits the analytical value of these records.\n",
    "\n",
    "- Attendance:\n",
    "With a relatively small proportion of missing data (14.59%) and considering the secondary importance of attendance figures in our analysis, replacing missing values with a placeholder like \"Data Not Available\" is a practical solution. This approach allows us to retain the rows for other analyses while acknowledging the absence of attendance data.\n",
    "\n",
    "- Manager Names and Referee (`home_club_manager_name`, `away_club_manager_name`, `referee`):\n",
    "Given the low level of missing data, replacing the missing values with \"Unknown\" seems to be a practical solution. This allows us to keep these rows in the dataset for broader analysis without significantly impacting the overall data quality.\n",
    "\n",
    "- Stadium:\n",
    "Similarly, for the stadium column with only 0.32% missing data, substituting missing values with \"Unknown\" allows us to retain the data's usefulness while recognizing the occasional absence of specific information.\n"
   ]
  },
  {
   "cell_type": "markdown",
   "metadata": {},
   "source": [
    "## Next Steps\n",
    "\n",
    "For the club names, we will first attempt to determine if they can be derived from other data in the same row. If this is not feasible, we will proceed to drop these rows.\n",
    "\n",
    "For the other columns, we will replace the missing values with \"Unknown\" or a similar placeholder as appropriate.\n",
    "\n",
    "Let's start by checking if club names can be inferred from other data in the dataset. If not, we will do as proposed above and drop the rows with missing club names."
   ]
  },
  {
   "cell_type": "code",
   "execution_count": null,
   "metadata": {},
   "outputs": [],
   "source": [
    "# Checking if club names can be derived from club IDs\n",
    "# First, we'll check if there are unique mappings from club IDs to club names\n",
    "\n",
    "# Checking for home clubs\n",
    "home_club_mappings = games_df.dropna(subset=['home_club_id', 'home_club_name'])\n",
    "home_club_unique = home_club_mappings.drop_duplicates(subset=['home_club_id', 'home_club_name'])\n",
    "home_club_id_name_map = home_club_unique.groupby('home_club_id')['home_club_name'].nunique()\n",
    "\n",
    "# Checking for away clubs\n",
    "away_club_mappings = games_df.dropna(subset=['away_club_id', 'away_club_name'])\n",
    "away_club_unique = away_club_mappings.drop_duplicates(subset=['away_club_id', 'away_club_name'])\n",
    "away_club_id_name_map = away_club_unique.groupby('away_club_id')['away_club_name'].nunique()\n",
    "\n",
    "# Checking if there are any club IDs with multiple names (which would complicate the mapping)\n",
    "multiple_home_names = home_club_id_name_map[home_club_id_name_map > 1]\n",
    "multiple_away_names = away_club_id_name_map[away_club_id_name_map > 1]\n",
    "\n",
    "(multiple_home_names, multiple_away_names)\n"
   ]
  },
  {
   "cell_type": "markdown",
   "metadata": {},
   "source": [
    "\n",
    "## Club Names Analysis\n",
    "\n",
    "The analysis reveals that there are no club IDs associated with multiple club names for both home and away clubs. This implies a unique and consistent mapping between club IDs and club names within the dataset. Thus, theoretically, it should be possible to infer missing club names using their corresponding club IDs.\n",
    "\n",
    "However, we need to consider that if a club name is missing, its corresponding club ID might also be missing or not represented in the parts of the dataset where club names are present. In such cases, we wouldn't be able to infer the missing club names.\n",
    "\n",
    "Given these considerations, we should proceed with the following steps:\n",
    "\n",
    "1. Attempt to Infer Missing Club Names: We'll try to fill in missing club names using the existing mapping between club IDs and names. If a club ID is present but the corresponding name is missing, we'll use the mapped name.\n",
    "\n",
    "2. Handling Rows with Unresolvable Missing Club Names: For rows where both club name and club ID are missing or where the club ID doesn't help in inferring the missing name, we will drop these rows. This decision is based on the critical nature of club names for meaningful analysis.\n",
    "\n",
    "After addressing the club names, we will then replace the missing values in the `attendance`, `home_club_manager_name`, `away_club_manager_name`, `referee`, and `stadium` columns with \"Unknown\" or a similar placeholder.\n"
   ]
  },
  {
   "cell_type": "code",
   "execution_count": null,
   "metadata": {},
   "outputs": [],
   "source": [
    "# Creating mappings from club IDs to club names for both home and away clubs\n",
    "home_club_id_to_name = home_club_unique.set_index('home_club_id')['home_club_name'].to_dict()\n",
    "away_club_id_to_name = away_club_unique.set_index('away_club_id')['away_club_name'].to_dict()\n",
    "\n",
    "# Filling missing club names using the club ID to name mappings\n",
    "games_df['home_club_name'] = games_df.apply(\n",
    "    lambda row: home_club_id_to_name.get(row['home_club_id'], row['home_club_name']) if pd.isna(row['home_club_name']) else row['home_club_name'],\n",
    "    axis=1\n",
    ")\n",
    "\n",
    "games_df['away_club_name'] = games_df.apply(\n",
    "    lambda row: away_club_id_to_name.get(row['away_club_id'], row['away_club_name']) if pd.isna(row['away_club_name']) else row['away_club_name'],\n",
    "    axis=1\n",
    ")\n",
    "\n",
    "# Checking if there are still missing values in club names\n",
    "missing_club_names_after_inference = games_df[['home_club_name', 'away_club_name']].isnull().sum()\n",
    "missing_club_names_after_inference"
   ]
  },
  {
   "cell_type": "markdown",
   "metadata": {},
   "source": [
    "## Update con Club Names\n",
    "After attempting to infer missing club names using club IDs, we still have a considerable number of missing values in the home_club_name (11,252 rows) and away_club_name (10,049 rows) columns. This suggests that either the club IDs were also missing in these cases, or the IDs present did not correspond to any existing mapping in the dataset.\n",
    "\n",
    "Given the significant number of rows still affected and the crucial importance of club names for our analysis, the most appropriate course of action is to drop these rows. Keeping them would limit our ability to perform meaningful analyses, as these rows cannot be linked to specific clubs and their associated data."
   ]
  },
  {
   "cell_type": "markdown",
   "metadata": {},
   "source": [
    "## Data Cleaning\n",
    "\n",
    "1. **Dropping Rows with Missing Club Names**: We will remove the rows where club names remain unresolved. This step is essential to ensure the dataset's usability for meaningful analysis.\n",
    "\n",
    "2. **Replacing Missing Values in Other Columns**: For the `attendance`, `home_club_manager_name`, `away_club_manager_name`, `referee`, and `stadium` columns, we will replace missing values with \"Unknown\" to maintain the integrity of the dataset while acknowledging the absence of specific information.\n",
    "\n",
    "Let's start by dropping the rows with missing club names and then update the remaining columns as discussed."
   ]
  },
  {
   "cell_type": "code",
   "execution_count": null,
   "metadata": {},
   "outputs": [],
   "source": [
    "# Dropping rows with missing club names\n",
    "games_df.dropna(subset=['home_club_name', 'away_club_name'], inplace=True)\n",
    "\n",
    "# Replacing missing values in 'attendance', 'home_club_manager_name', 'away_club_manager_name', 'referee', and 'stadium' columns with \"Unknown\"\n",
    "columns_to_replace_missing = ['attendance', 'home_club_manager_name', 'away_club_manager_name', 'referee', 'stadium']\n",
    "games_df[columns_to_replace_missing] = games_df[columns_to_replace_missing].fillna(\"Unknown\")\n",
    "\n",
    "# Checking the dataset after these updates\n",
    "games_df.isnull().sum()  # Displaying the count of missing values for each column after updates\n"
   ]
  },
  {
   "cell_type": "markdown",
   "metadata": {},
   "source": [
    "The dataset has been updated as follows:\n",
    "\n",
    "### Rows with Missing Club Names Removed\n",
    "We have successfully removed rows where the club names could not be resolved. This ensures that our dataset now only contains records where we can clearly identify both the `home_club_name` and `away_club_name`, which is crucial for meaningful analysis.\n",
    "\n",
    "### Missing Values in Other Columns Addressed\n",
    "For columns like `attendance`, `home_club_manager_name`, `away_club_manager_name`, `referee`, and `stadium`, we have replaced missing values with \"Unknown\". This step acknowledges the absence of certain data while maintaining the overall integrity of the dataset.\n",
    "\n",
    "The only remaining columns with missing values are `home_club_position` and `away_club_position`, each with 5,880 missing entries. These will be replaced with \"Unknown\" to reflect the absence of data without dropping the rows, considering the significance of club positions in certain analyses.\n",
    "\n",
    "With these steps, our dataset is now cleaner and more consistent, setting a solid foundation for further exploratory data analysis (EDA). Once we replace the missing club positions, the dataset will be ready for the next phase of our analysis, where we will delve into descriptive statistics and visualization to uncover deeper insights."
   ]
  },
  {
   "cell_type": "code",
   "execution_count": null,
   "metadata": {},
   "outputs": [],
   "source": [
    "# Replacing missing values in 'home_club_position' and 'away_club_position' with \"Unknown\"\n",
    "games_df[['home_club_position', 'away_club_position']] = games_df[['home_club_position', 'away_club_position']].fillna(\"Unknown\")\n",
    "\n",
    "# Final check of the dataset for any remaining missing values\n",
    "final_missing_values_check = games_df.isnull().sum()\n",
    "final_missing_values_check"
   ]
  },
  {
   "cell_type": "markdown",
   "metadata": {},
   "source": [
    "# 4. Exploratory Data Analysis\n",
    "Now that our dataset is clean and ready, we'll dive into the exploratory data analysis. This phase will involve examining the dataset to uncover patterns, trends, and generate insights. We will use both statistical summaries and visualizations to deepen our understanding of the data.\n",
    "\n",
    "## Overview\n",
    "\n",
    "### Descriptive Statistics\n",
    "We'll start by looking at some basic statistics for key columns. This includes measures like mean, median, and standard deviation for numerical columns, and frequency counts for categorical columns. We will focus on aspects like goals scored, club positions, and attendance.\n",
    "\n",
    "### Visualization\n",
    "\n",
    "After the descriptive statistics, we'll move on to visualizing the data. This can include:\n",
    "\n",
    "* Distribution of goals scored by home and away clubs.\n",
    "* Patterns in attendance across different games.\n",
    "* Trends over time, such as changes in the number of goals scored per season or variations in attendance.\n",
    "* Comparisons between clubs in terms of performance.\n",
    "\n",
    "### In-depth Analysis\n",
    "Based on the initial findings from the descriptive statistics and visualizations, we will delve into more specific areas. This might include exploring how club positions correlate with game outcomes, the impact of different referees on game results, or any seasonal trends."
   ]
  },
  {
   "cell_type": "code",
   "execution_count": null,
   "metadata": {},
   "outputs": [],
   "source": [
    "# Calculating descriptive statistics for numerical columns\n",
    "numerical_stats = games_df.describe(include=[np.number])\n",
    "\n",
    "# Calculating frequency counts for categorical columns\n",
    "categorical_columns = games_df.select_dtypes(include=['object']).columns\n",
    "categorical_stats = games_df[categorical_columns].describe()\n",
    "\n",
    "(numerical_stats, categorical_stats)\n"
   ]
  },
  {
   "cell_type": "markdown",
   "metadata": {},
   "source": [
    "## Descriptive Statistics Overview\n",
    "\n",
    "**Numerical Columns:**\n",
    "\n",
    "1. Game ID and Season: These are mainly identifiers with a wide range of values.\n",
    "\n",
    "2. Club IDs: The `home_club_id` and `away_club_id` have a broad range, reflecting a variety of participating clubs.\n",
    "\n",
    "3. Goals: The average number of goals scored by home clubs is around 1.55, slightly higher than the 1.22 average for away clubs. The maximum goals scored in a game by a team are 14 for home and 15 for away clubs.\n",
    "\n",
    "**Categorical Columns:**\n",
    "\n",
    "1. Competition ID and Round: There are 42 unique competition IDs and 107 unique rounds, indicating a diverse set of games.\n",
    "\n",
    "2. Date: The games span across 3,154 unique dates, demonstrating the dataset's coverage over time.\n",
    "\n",
    "3. Club Positions: There are 22 unique positions for both home and away clubs, but the most frequent value is \"Unknown\", likely due to the missing data we addressed.\n",
    "\n",
    "4. Club Names: There are 426 unique names each for home and away clubs.\n",
    "\n",
    "5. Attendance: The attendance column has a high frequency of \"Unknown\", aligned with our data cleaning approach.\n",
    "\n",
    "6. Referee: There are 952 unique referees, with Anthony Taylor being the most frequent.\n",
    "\n",
    "7. Stadium: The dataset includes 589 unique stadiums, with Olimpico di Roma being the most common venue.\n",
    "\n",
    "8. Competition Type: Most games are from domestic leagues.\n",
    "\n",
    "## Visualization and In-depth Analysis\n",
    "Based on these statistics, we can start visualizing certain aspects of the data, such as the distribution of goals scored, and then move on to more in-depth analyses. For example, we can explore trends over seasons, the impact of home vs. away status on game outcomes, and the influence of different referees or stadiums on the games.\n",
    "\n",
    "We will focus on the following aspects:\n",
    "\n",
    "- Goals Distribution: Analyzing the distribution of goals scored by both home and away clubs.\n",
    "\n",
    "- Seasonal Trends: Observing how the number of goals and game outcomes have varied over different seasons.\n",
    "\n",
    "- Club Performance: Comparing the performance of clubs based on their home and away status.\n",
    "\n",
    "- Referee Influence: Exploring if there's any noticeable pattern in game outcomes or goal scoring related to different referees.\n"
   ]
  },
  {
   "cell_type": "code",
   "execution_count": null,
   "metadata": {},
   "outputs": [],
   "source": [
    "# Setting the aesthetics for the plots\n",
    "sns.set(style=\"whitegrid\")\n",
    "\n",
    "# 1. Goals Distribution\n",
    "plt.figure(figsize=(14, 6))\n",
    "\n",
    "# Distribution of goals scored by home clubs\n",
    "plt.subplot(1, 2, 1)\n",
    "sns.histplot(games_df['home_club_goals'], kde=True, bins=range(0, 16))\n",
    "plt.title('Distribution of Goals Scored by Home Clubs')\n",
    "plt.xlabel('Home Club Goals')\n",
    "plt.ylabel('Frequency')\n",
    "\n",
    "# Distribution of goals scored by away clubs\n",
    "plt.subplot(1, 2, 2)\n",
    "sns.histplot(games_df['away_club_goals'], kde=True, bins=range(0, 16))\n",
    "plt.title('Distribution of Goals Scored by Away Clubs')\n",
    "plt.xlabel('Away Club Goals')\n",
    "plt.ylabel('Frequency')\n",
    "\n",
    "plt.tight_layout()\n",
    "plt.show()"
   ]
  },
  {
   "cell_type": "markdown",
   "metadata": {},
   "source": [
    "## Visualization 1: Goals Distribution\n",
    "\n",
    "The histograms above show the distribution of goals scored by home and away clubs:\n",
    "\n",
    "* Home Clubs: The distribution of goals scored by home clubs is skewed to the right. Most home clubs score 0 to 3 goals per game, with a peak at 1 goal. There are fewer instances of high goal counts (4 or more).\n",
    "\n",
    "* Away Clubs: The goal distribution for away clubs is similar, also right-skewed, but with a slightly lower frequency of scoring more than 1 goal compared to home clubs.\n",
    "\n",
    "This pattern suggests that home clubs might have a slight advantage in terms of scoring goals, which is a common observation in many sports.\n",
    "\n",
    "Next, let's look at the seasonal trends, focusing on the variation in the number of goals over different seasons. ​​\n"
   ]
  },
  {
   "cell_type": "code",
   "execution_count": null,
   "metadata": {},
   "outputs": [],
   "source": [
    "# 2. Seasonal Trends in Goals\n",
    "plt.figure(figsize=(14, 6))\n",
    "\n",
    "# Total goals scored per season\n",
    "games_df['total_goals'] = games_df['home_club_goals'] + games_df['away_club_goals']\n",
    "goals_per_season = games_df.groupby('season')['total_goals'].mean()\n",
    "\n",
    "# Plotting the average number of goals per season\n",
    "goals_per_season.plot(kind='line', marker='o', color='b')\n",
    "plt.title('Average Number of Goals Per Game Over Seasons')\n",
    "plt.xlabel('Season')\n",
    "plt.ylabel('Average Goals Per Game')\n",
    "plt.xticks(rotation=45)\n",
    "plt.grid(True)\n",
    "plt.show()\n"
   ]
  },
  {
   "cell_type": "markdown",
   "metadata": {},
   "source": [
    "## Visualization 2: Seasonal Trends in Goals\n",
    "\n",
    "The line chart depicts the average number of goals per game over different seasons. Key observations include:\n",
    "\n",
    "- There is a fluctuation in the average number of goals scored per game across seasons.\n",
    "- While there's no clear long-term upward or downward trend, certain seasons stand out with either higher or lower averages than adjacent seasons.\n",
    "\n",
    "This visualization highlights the dynamic nature of the game across seasons, potentially influenced by varying strategies, player performances, or other external factors.\n",
    "\n",
    "Moving forward, let's compare the performance of clubs based on their home and away status. We'll look at the win rates for home and away clubs.\n"
   ]
  },
  {
   "cell_type": "code",
   "execution_count": null,
   "metadata": {},
   "outputs": [],
   "source": [
    "# 3. Club Performance: Home vs Away\n",
    "# Adding a column to determine the match outcome (Home Win, Away Win, Draw)\n",
    "def match_outcome(row):\n",
    "    if row['home_club_goals'] > row['away_club_goals']:\n",
    "        return 'Home Win'\n",
    "    elif row['home_club_goals'] < row['away_club_goals']:\n",
    "        return 'Away Win'\n",
    "    else:\n",
    "        return 'Draw'\n",
    "\n",
    "games_df['outcome'] = games_df.apply(match_outcome, axis=1)\n",
    "\n",
    "# Calculating the proportion of each outcome\n",
    "outcome_counts = games_df['outcome'].value_counts(normalize=True) * 100\n",
    "\n",
    "# Plotting the outcomes\n",
    "plt.figure(figsize=(8, 6))\n",
    "outcome_counts.plot(kind='bar', color=['skyblue', 'lightgreen', 'salmon'])\n",
    "plt.title('Game Outcomes: Home Win vs Away Win vs Draw')\n",
    "plt.xlabel('Match Outcome')\n",
    "plt.ylabel('Percentage (%)')\n",
    "plt.xticks(rotation=0)\n",
    "plt.show()\n"
   ]
  },
  {
   "cell_type": "markdown",
   "metadata": {},
   "source": [
    "## Visualization 3: Club Performance - Home vs Away\n",
    "\n",
    "The bar chart illustrates the distribution of game outcomes in terms of Home Wins, Away Wins, and Draws:\n",
    "\n",
    "- Home Wins are the most common outcome, consistent with the general advantage often observed for home teams in sports.\n",
    "\n",
    "- Away Wins occur less frequently than home wins but are still a significant portion of the outcomes.\n",
    "\n",
    "- Draws are the least frequent outcome.\n",
    "\n",
    "This pattern reinforces the notion of a 'home advantage', where home teams are more likely to win their games.\n",
    "\n",
    "Finally, let's examine if there's any noticeable pattern in game outcomes or goal scoring related to different referees. This will involve analyzing the frequency of different types of outcomes for the most common referees in the dataset."
   ]
  },
  {
   "cell_type": "code",
   "execution_count": null,
   "metadata": {},
   "outputs": [],
   "source": [
    "# 4. Referee Influence on Game Outcomes\n",
    "# Focusing on the top referees based on the number of games officiated\n",
    "top_referees = games_df['referee'].value_counts().nlargest(10).index\n",
    "\n",
    "# Filtering the dataset for games officiated by these top referees\n",
    "top_referee_games = games_df[games_df['referee'].isin(top_referees)]\n",
    "\n",
    "# Crosstabulating the outcomes with referees\n",
    "referee_outcome_crosstab = pd.crosstab(top_referee_games['referee'], top_referee_games['outcome'], normalize='index') * 100\n",
    "\n",
    "# Plotting the data\n",
    "plt.figure(figsize=(14, 8))\n",
    "referee_outcome_crosstab.plot(kind='bar', stacked=True, color=['skyblue', 'lightgreen', 'salmon'], ax=plt.gca())\n",
    "plt.title('Game Outcomes by Top Referees')\n",
    "plt.xlabel('Referee')\n",
    "plt.ylabel('Percentage (%)')\n",
    "plt.xticks(rotation=45)\n",
    "plt.legend(title='Match Outcome')\n",
    "plt.show()\n"
   ]
  },
  {
   "cell_type": "markdown",
   "metadata": {},
   "source": [
    "## Visualization 4: Referee Influence on Game Outcomes\n",
    "\n",
    "The stacked bar chart shows the distribution of game outcomes (Home Win, Away Win, Draw) for games officiated by the top referees (based on the number of games they have officiated):\n",
    "\n",
    "* There is some variation in the distribution of outcomes across different referees, but the general trend of a higher frequency of home wins is consistent.\n",
    "\n",
    "* The proportion of away wins and draws varies more notably between referees.\n",
    "\n",
    "While this visualization does not imply causation (i.e., the referee directly influencing the game's outcome), it does show how game outcomes are distributed across different referees. This could be a starting point for more detailed analyses, possibly considering factors like the referee's experience, the teams involved, and the nature of the competition."
   ]
  },
  {
   "cell_type": "markdown",
   "metadata": {},
   "source": [
    "# Insights and Conclusions\n",
    "We've covered a range of analyses, from descriptive statistics to various visualizations, uncovering interesting patterns and insights about the games, including goal distributions, seasonal trends, home vs. away team performances, and the influence of referees.\n",
    "\n",
    "## Key Findings\n",
    "1. Goal Distribution: Home teams generally score more goals than away teams, with most teams scoring between 0 to 3 goals per game.\n",
    "\n",
    "2. Seasonal Trends: There are noticeable fluctuations in the average number of goals per game across different seasons, indicating varying game dynamics over time.\n",
    "\n",
    "3. Home Advantage: Home teams tend to win more often, as indicated by the higher frequency of home wins in the game outcomes.\n",
    "\n",
    "4. Referee Influence: While the referees show some variation in the distribution of game outcomes, the home advantage trend persists across different referees.\n",
    "\n",
    "\n",
    "## Limitations\n",
    "### Missing Data\n",
    "Despite our best efforts to handle missing data, the initial absence of certain information (e.g., club formations, some club names) could limit the comprehensiveness of our analysis.\n",
    "### Causal Inference\n",
    "The analysis primarily identifies correlations and patterns rather than causation. For example, referee influence on game outcomes needs further investigation to rule out other confounding factors.\n",
    "### Historical Data\n",
    "Our insights are based on historical data, which may not fully predict future trends, especially in a dynamic field like sports.\n",
    "\n",
    "# Recommendations\n",
    "* Conducting deeper statistical tests to understand the factors influencing game outcomes.\n",
    "\n",
    "* Building predictive models for forecasting game results or player performances.\n",
    "\n",
    "* Exploring other aspects of the dataset, like the impact of specific players or team strategies.\n",
    "\n",
    "\n",
    "## Conclusions\n",
    "The dataset provides valuable insights into football game dynamics, particularly highlighting the home team advantage.\n",
    "Seasonal variations suggest that external factors (such as team strategies or player transfers) significantly impact game outcomes over time.\n",
    "Further analysis, possibly using advanced statistical methods or predictive modeling, could provide more in-depth insights, especially in understanding the causality behind observed patterns."
   ]
  },
  {
   "cell_type": "markdown",
   "metadata": {},
   "source": [
    "# Saving the Cleaned Data"
   ]
  },
  {
   "cell_type": "code",
   "execution_count": null,
   "metadata": {},
   "outputs": [],
   "source": [
    "# Save the cleaned DataFrame to a new CSV file\n",
    "cleaned_data_path = '../data/cleaned/games_cleaned.csv'\n",
    "games_df.to_csv(cleaned_data_path, index=False)"
   ]
  }
 ],
 "metadata": {
  "kernelspec": {
   "display_name": "Python 3",
   "language": "python",
   "name": "python3"
  },
  "language_info": {
   "codemirror_mode": {
    "name": "ipython",
    "version": 3
   },
   "file_extension": ".py",
   "mimetype": "text/x-python",
   "name": "python",
   "nbconvert_exporter": "python",
   "pygments_lexer": "ipython3",
   "version": "3.9.9"
  }
 },
 "nbformat": 4,
 "nbformat_minor": 2
}

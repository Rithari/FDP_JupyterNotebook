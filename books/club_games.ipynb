{
 "cells": [
  {
   "cell_type": "markdown",
   "metadata": {},
   "source": [
    "# 1. Data Loading and Preliminary Analysis"
   ]
  },
  {
   "cell_type": "code",
   "execution_count": null,
   "metadata": {},
   "outputs": [],
   "source": [
    "import pandas as pd\n",
    "import numpy as np\n",
    "import matplotlib.pyplot as plt\n",
    "import seaborn as sns\n",
    "\n",
    "# Load the dataset\n",
    "file_path = '../data/club_games.csv'\n",
    "club_games_df = pd.read_csv(file_path)\n",
    "\n",
    "# Display the first few rows of the dataset for an initial overview\n",
    "club_games_df.head()\n"
   ]
  },
  {
   "cell_type": "markdown",
   "metadata": {},
   "source": [
    "## Initial Observations\n",
    "\n",
    "Based on the first few rows of the `club_games.csv` dataset, here are some initial observations:\n",
    "\n",
    "**Structure and Key Variables:**\n",
    "- `game_id`: Appears to be a unique identifier for each game.\n",
    "- `club_id`: Identifier for the club.\n",
    "- `own_goals`: The number of goals scored by the club.\n",
    "- `own_position`: The club's position in a league or tournament, some values are missing.\n",
    "- `own_manager_name`: Name of the club's manager.\n",
    "- `opponent_id`: Identifier for the opponent club.\n",
    "- `opponent_goals`: Goals scored by the opponent club.\n",
    "- `opponent_position`: Opponent club's position, also contains missing values.\n",
    "- `opponent_manager_name`: Name of the opponent club's manager.\n",
    "- `hosting`: Indicates if the club is hosting the game (Home/Away).\n",
    "- `is_win`: A binary indicator of whether the club won the game.\n",
    "\n",
    "**Quality Issues:**\n",
    "- Missing values are evident in `own_position` and `opponent_position`.\n",
    "\n",
    "**Data Types:**\n",
    "Most variables seem correctly typed. However, we'll need to confirm this.\n"
   ]
  },
  {
   "cell_type": "markdown",
   "metadata": {},
   "source": [
    "# 2. Data Cleaning and Preprocessing\n",
    "\n",
    "## 1. Handling Missing Data\n",
    "\n",
    "We observed missing values in `own_position` and `opponent_position`. We need to decide whether to fill these missing values, drop them, or mark them distinctly.\n",
    "\n",
    "## 2. Data Type Conversions\n",
    "\n",
    "We'll confirm the data types of each column and see if any conversions are necessary for more efficient analysis.\n",
    "\n",
    "## 3. New Features\n",
    "\n",
    "Assessing the need for creating new features that might aid in our analysis, such as win/loss ratios, average goals per game, etc."
   ]
  },
  {
   "cell_type": "code",
   "execution_count": null,
   "metadata": {},
   "outputs": [],
   "source": [
    "# Assessing missing values and data types\n",
    "missing_values = club_games_df.isnull().sum()\n",
    "data_types = club_games_df.dtypes\n",
    "\n",
    "# Calculating the percentage of missing values in relation to the entire dataset\n",
    "total_rows = club_games_df.shape[0]\n",
    "missing_values_percentage = (missing_values / total_rows) * 100\n",
    "\n",
    "missing_values_percentage"
   ]
  },
  {
   "cell_type": "markdown",
   "metadata": {},
   "source": [
    "## Assessment Summary\n",
    "\n",
    "**Missing Values:**\n",
    "\n",
    "- `own_position` and `opponent_position` have missing values in 29.83% of the rows. This is a significant portion of the dataset, suggesting that these positions are frequently not recorded or not applicable. We could consider filling these with a placeholder (e.g., -1) or leave them as NaN.\n",
    "\n",
    "- `own_manager_name` and `opponent_manager_name` are missing in 1.14% of the rows. This is a smaller proportion, but still notable. This could be due to interim periods without a formal manager or data recording issues. We could fill these with 'Unknown' or a similar placeholder.\n",
    "\n",
    "**Data Types:**\n",
    "\n",
    "Most columns have appropriate data types.\n",
    "\n",
    "- `own_position` and `opponent_position` are floats, which could be possible if positions can be non-integer values (e.g., in case of tied positions - although highly unlikely). If not, we might consider converting them to integers or a categorical type. We'll explore the data further to decide in a moment.\n",
    "\n",
    "**Potential New Features:**\n",
    "\n",
    "- Win/Loss Ratio: A feature indicating the win/loss ratio of the club could be useful.\n",
    "\n",
    "- Average Goals per Game: Calculating the average goals scored and conceded per game might offer insights into offensive and defensive strengths.\n"
   ]
  },
  {
   "cell_type": "code",
   "execution_count": null,
   "metadata": {},
   "outputs": [],
   "source": [
    "# Checking if there are any non-integer values in 'own_position' and 'opponent_position'\n",
    "non_integer_own_position = club_games_df['own_position'].dropna().apply(float.is_integer).all()\n",
    "non_integer_opponent_position = club_games_df['opponent_position'].dropna().apply(float.is_integer).all()\n",
    "\n",
    "non_integer_own_position, non_integer_opponent_position"
   ]
  },
  {
   "cell_type": "markdown",
   "metadata": {},
   "source": [
    "The analysis reveals that all non-missing values in both `own_position` and `opponent_position` are indeed integers (no floating-point numbers like 2.5, etc.). Therefore, it makes sense to convert these columns to integer data types.\n",
    "\n"
   ]
  },
  {
   "cell_type": "code",
   "execution_count": null,
   "metadata": {},
   "outputs": [],
   "source": [
    "# Handling missing values\n",
    "club_games_df['own_position'].fillna(-1, inplace=True)\n",
    "club_games_df['opponent_position'].fillna(-1, inplace=True)\n",
    "club_games_df['own_manager_name'].fillna('Unknown', inplace=True)\n",
    "club_games_df['opponent_manager_name'].fillna('Unknown', inplace=True)\n",
    "\n",
    "# Converting 'own_position' and 'opponent_position' to integer data types\n",
    "club_games_df['own_position'] = club_games_df['own_position'].astype(int)\n",
    "club_games_df['opponent_position'] = club_games_df['opponent_position'].astype(int)\n",
    "\n",
    "# Verifying the changes\n",
    "club_games_df.head()"
   ]
  },
  {
   "cell_type": "markdown",
   "metadata": {},
   "source": [
    "## Actions recap\n",
    "\n",
    "**Missing Values:**\n",
    "- Fill missing `own_position` and `opponent_position` with a placeholder (-1).\n",
    "- Fill missing `own_manager_name` and `opponent_manager_name` with 'Unknown'.\n",
    "\n",
    "**Data Type Conversions:**\n",
    "- Convert `own_position` and `opponent_position` to integer data types.\n",
    "\n",
    "**New Features:**\n",
    "- Create new features for win/loss ratio and average goals per game.\n",
    "\n",
    "Next Step: Creating New Features\n",
    "\n",
    "We proposed adding two new features:\n",
    "\n",
    "1. Win/Loss Ratio: Calculating the ratio of wins to losses for each club.\n",
    "2. Average Goals per Game: Determining the average number of goals scored and conceded per game for each club.\n",
    "\n",
    "Let's proceed with creating these new features. We will first calculate the win/loss ratio for each club. This involves grouping the data by `club_id` and calculating the ratio of wins to the total number of games played by each club. We'll handle cases where the number of losses is zero to avoid division by zero errors.\n",
    "\n",
    "After that, we'll calculate the average goals per game for each club, both for goals scored and goals conceded."
   ]
  },
  {
   "cell_type": "code",
   "execution_count": null,
   "metadata": {},
   "outputs": [],
   "source": [
    "# Creating a new feature: Win/Loss Ratio\n",
    "# Calculating the number of wins and losses for each club\n",
    "club_wins_losses = club_games_df.groupby('club_id')['is_win'].agg(['sum', 'count'])\n",
    "club_wins_losses['losses'] = club_wins_losses['count'] - club_wins_losses['sum']\n",
    "\n",
    "# Avoiding division by zero by adding a small number to losses\n",
    "club_wins_losses['win_loss_ratio'] = club_wins_losses['sum'] / (club_wins_losses['losses'] + 0.001)\n",
    "\n",
    "# Merging the win/loss ratio back into the main dataframe\n",
    "club_games_df = club_games_df.merge(club_wins_losses[['win_loss_ratio']], on='club_id', how='left')\n",
    "\n",
    "# Creating a new feature: Average Goals per Game\n",
    "# Calculating average goals scored and conceded per game for each club\n",
    "average_goals = club_games_df.groupby('club_id').agg({'own_goals': 'mean', 'opponent_goals': 'mean'})\n",
    "average_goals.rename(columns={'own_goals': 'avg_goals_scored', 'opponent_goals': 'avg_goals_conceded'}, inplace=True)\n",
    "\n",
    "# Merging the average goals per game back into the main dataframe\n",
    "club_games_df = club_games_df.merge(average_goals, on='club_id', how='left')"
   ]
  },
  {
   "cell_type": "markdown",
   "metadata": {},
   "source": [
    "## New Features\n",
    "\n",
    "- **Win/Loss Ratio (win_loss_ratio):** This column shows the ratio of wins to losses for each club. A small value has been added to losses to avoid division by zero.\n",
    "\n",
    "- **Average Goals per Game:** Two columns have been added:\n",
    "    - `avg_goals_scored`: The average number of goals scored by the club per game.\n",
    "    - `avg_goals_conceded`: The average number of goals conceded by the club per game.\n"
   ]
  },
  {
   "cell_type": "markdown",
   "metadata": {},
   "source": [
    "# 3. Exploratory Data Analysis\n",
    "\n",
    "We will now proceed with the EDA, which includes:\n",
    "\n",
    "Descriptive Statistics: We'll summarize key columns to understand the distribution and central tendencies of the data.\n",
    "\n",
    "Visualization: We'll create visualizations to identify patterns and insights, focusing on unique and non-repetitive chart designs.\n",
    "\n",
    "In-depth Analysis: We'll perform focused analysis on specific areas of interest, such as comparing performance metrics between clubs, analyzing trends over time, etc.\n",
    "\n",
    "Let's begin with the descriptive statistics to gain an overview of the dataset's key features."
   ]
  },
  {
   "cell_type": "code",
   "execution_count": null,
   "metadata": {},
   "outputs": [],
   "source": [
    "# Descriptive statistics for key columns\n",
    "descriptive_stats = club_games_df.describe(include='all')\n",
    "descriptive_stats.transpose()  # Transposing for better readability"
   ]
  },
  {
   "cell_type": "markdown",
   "metadata": {},
   "source": [
    "Descriptive Statistics Overview\n",
    "\n",
    "Here's a summary of key columns in the dataset:\n",
    "\n",
    "Game and Club Identifiers:\n",
    "- `game_id`: Ranges from 2,211,607 to 4,228,114.\n",
    "- `club_id`: Ranges widely from 1 to 112,755.\n",
    "\n",
    "Goals and Positions:\n",
    "- `own_goals` and `opponent_goals`: Both have a similar distribution with a mean of approximately 1.46 goals per game and a maximum of 19 goals in a game.\n",
    "- `own_position` and `opponent_position`: Ranges from -1 (placeholder for missing values) to 21, with an average position around 6.27.\n",
    "\n",
    "Manager Names:\n",
    "- `own_manager_name` and `opponent_manager_name`: Feature a large number of unique values (5,578), including 'Unknown' for missing entries.\n",
    "\n",
    "Hosting:\n",
    "- `hosting`: Indicates whether the club was hosting the game, with two unique values ('Home' or not).\n",
    "\n",
    "Win/Loss and Goals:\n",
    "- `is_win`: Indicates the win status, with about 39% of games resulting in a win for the club.\n",
    "- `win_loss_ratio`: Ranges significantly, with some extreme values (max is 2000).\n",
    "- `avg_goals_scored` and `avg_goals_conceded`: Average goals per game are both around 1.46, indicating a balanced offensive and defensive play across clubs.\n"
   ]
  },
  {
   "cell_type": "markdown",
   "metadata": {},
   "source": [
    "## Visualizations\n",
    "\n",
    "We'll be focusing on the following visualizations to start:\n",
    "\n",
    "1. Distribution of Goals Scored and Conceded: To understand the offensive and defensive capabilities of clubs. We are expecting these to be mirrored distributions, with a similar mean and spread.\n",
    "\n",
    "2. Win/Loss Ratios Across Clubs: To see how clubs compare in terms of their performance.\n",
    "\n",
    "3. Position in League vs Performance: Analyzing if there's a correlation between a club's position in the league and their win/loss ratio or goals scored/conceded.\n"
   ]
  },
  {
   "cell_type": "code",
   "execution_count": null,
   "metadata": {},
   "outputs": [],
   "source": [
    "# Setting the aesthetic style of the plots\n",
    "sns.set(style=\"whitegrid\")\n",
    "\n",
    "# Distribution of Goals Scored and Conceded\n",
    "plt.figure(figsize=(14, 6))\n",
    "\n",
    "# Goals Scored\n",
    "plt.subplot(1, 2, 1)\n",
    "sns.histplot(club_games_df['own_goals'], kde=True, color=\"skyblue\", binwidth=1)\n",
    "plt.title('Distribution of Goals Scored by Clubs')\n",
    "plt.xlabel('Goals Scored')\n",
    "plt.ylabel('Frequency')\n",
    "\n",
    "# Goals Conceded\n",
    "plt.subplot(1, 2, 2)\n",
    "sns.histplot(club_games_df['opponent_goals'], kde=True, color=\"salmon\", binwidth=1)\n",
    "plt.title('Distribution of Goals Conceded by Clubs')\n",
    "plt.xlabel('Goals Conceded')\n",
    "plt.ylabel('Frequency')\n",
    "\n",
    "plt.tight_layout()\n",
    "plt.show()\n"
   ]
  },
  {
   "cell_type": "markdown",
   "metadata": {},
   "source": [
    "## Visualization 1: Distribution of Goals Scored and Conceded\n",
    "\n",
    "The two histograms depict the distribution of goals scored by clubs (in sky blue) and goals conceded (in salmon). \n",
    "\n",
    "**Key observations**:\n",
    "\n",
    "- Symmetry in Scoring and Conceding: Both distributions appear quite similar, reflecting a balance between offensive and defensive capabilities across clubs.\n",
    "\n",
    "- Common Range: Most games feature between 0 to 3 goals scored or conceded, with a steep drop-off beyond this range.\n",
    "\n",
    "- Outliers: There are a few instances of exceptionally high goal counts (up to 19), which are rare and could represent extraordinary games.\n"
   ]
  },
  {
   "cell_type": "code",
   "execution_count": null,
   "metadata": {},
   "outputs": [],
   "source": [
    "# Visualization of Win/Loss Ratios Across Clubs\n",
    "plt.figure(figsize=(10, 6))\n",
    "sns.boxplot(x=club_games_df['win_loss_ratio'], color=\"lightgreen\")\n",
    "plt.title('Win/Loss Ratios Across Clubs')\n",
    "plt.xlabel('Win/Loss Ratio')\n",
    "plt.xlim(0, 5)  # Limiting x-axis for better visualization, as there are extreme values\n",
    "plt.show()"
   ]
  },
  {
   "cell_type": "markdown",
   "metadata": {},
   "source": [
    "## Visualization 2: Win/Loss Ratios Across Clubs\n",
    "\n",
    "This boxplot shows the distribution of win/loss ratios across different clubs:\n",
    "\n",
    "- Central Tendency and Spread: The majority of clubs have a win/loss ratio close to 0.5 to 1, suggesting a balance between wins and losses.\n",
    "\n",
    "- Outliers: There are clubs with exceptionally high ratios, extending far beyond the main distribution. These could represent clubs with dominant performance or those with very few losses.\n",
    "\n",
    "- Skewness: The distribution is slightly skewed towards higher ratios, indicating a tendency for more wins than losses across clubs, but this might be influenced by outliers.\n"
   ]
  },
  {
   "cell_type": "code",
   "execution_count": null,
   "metadata": {},
   "outputs": [],
   "source": [
    "# Visualization: Position in League vs Performance Metrics\n",
    "plt.figure(figsize=(14, 6))\n",
    "\n",
    "# Win/Loss Ratio vs Position\n",
    "plt.subplot(1, 2, 1)\n",
    "sns.scatterplot(data=club_games_df, x='own_position', y='win_loss_ratio', color=\"purple\", alpha=0.5)\n",
    "plt.title('Win/Loss Ratio vs League Position')\n",
    "plt.xlabel('League Position')\n",
    "plt.ylabel('Win/Loss Ratio')\n",
    "plt.ylim(0, 5)  # Limiting y-axis for clarity\n",
    "\n",
    "# Average Goals Scored vs Position\n",
    "plt.subplot(1, 2, 2)\n",
    "sns.scatterplot(data=club_games_df, x='own_position', y='avg_goals_scored', color=\"orange\", alpha=0.5)\n",
    "plt.title('Average Goals Scored vs League Position')\n",
    "plt.xlabel('League Position')\n",
    "plt.ylabel('Average Goals Scored')\n",
    "\n",
    "plt.tight_layout()\n",
    "plt.show()\n"
   ]
  },
  {
   "cell_type": "markdown",
   "metadata": {},
   "source": [
    "## Visualization 3: Position in League vs Performance\n",
    "\n",
    "**Win/Loss Ratio vs League Position:**\n",
    "There's a general trend where clubs with lower league positions (towards 1, indicating top positions) tend to have higher win/loss ratios.\n",
    "Clubs with higher positions (closer to 20) generally show lower ratios, suggesting weaker performance.\n",
    "\n",
    "**Average Goals Scored vs League Position:**\n",
    "A similar trend is observed with average goals scored. Top-positioned clubs tend to score more goals on average.\n",
    "As the league position increases, the average goals scored tend to decrease.\n",
    "\n",
    "These trends suggest a correlation between a club's league position and their performance in terms of win/loss ratio and goal scoring. Higher-ranked clubs in the league generally perform better."
   ]
  },
  {
   "cell_type": "markdown",
   "metadata": {},
   "source": [
    "## Outlier Analysis\n",
    "\n",
    "To investigate whether the outliers in our data are mistakes or genuine occurrences, we can take the following approach:\n",
    "\n",
    "1. Statistical Analysis of Outliers: We'll look at the data points that fall beyond a typical range (e.g., beyond 3 standard deviations from the mean) and evaluate their characteristics.\n",
    "\n",
    "2. Contextual Examination: For data points identified as outliers, we'll examine their context, such as the clubs and managers involved, game IDs, and dates if available. This can help us determine if these outliers correspond to extraordinary but genuine events (like a particularly high-scoring game) or if they seem like data entry errors.\n",
    "\n",
    "3. Consistency Check: We'll check for consistency in the data. For example, if a club has an extremely high win/loss ratio, we'll see if this is supported by their goals scored and conceded. Inconsistencies might suggest data errors.\n"
   ]
  },
  {
   "cell_type": "code",
   "execution_count": null,
   "metadata": {},
   "outputs": [],
   "source": [
    "# Function to identify outliers based on standard deviation\n",
    "def identify_outliers(data, n_std=3):\n",
    "    mean_val = np.mean(data)\n",
    "    std_val = np.std(data)\n",
    "    threshold = n_std * std_val\n",
    "    outliers = data[np.abs(data - mean_val) > threshold]\n",
    "    return outliers\n",
    "\n",
    "# Identifying outliers in win/loss ratio and goal counts\n",
    "outliers_win_loss_ratio = identify_outliers(club_games_df['win_loss_ratio'])\n",
    "outliers_goals_scored = identify_outliers(club_games_df['own_goals'])\n",
    "outliers_goals_conceded = identify_outliers(club_games_df['opponent_goals'])\n",
    "\n",
    "# Summarizing the outliers\n",
    "outlier_summary = {\n",
    "    \"Win/Loss Ratio Outliers\": outliers_win_loss_ratio.describe(),\n",
    "    \"Goals Scored Outliers\": outliers_goals_scored.describe(),\n",
    "    \"Goals Conceded Outliers\": outliers_goals_conceded.describe()\n",
    "}\n",
    "\n",
    "print(outlier_summary)\n"
   ]
  },
  {
   "cell_type": "markdown",
   "metadata": {},
   "source": [
    "**Win/Loss Ratio Outliers:**\n",
    "- Count: 13 outliers.\n",
    "- Range: The win/loss ratios for these outliers are extremely high, ranging from 1000 to 2000.\n",
    "- Implication: Such high ratios are highly unusual and suggest a potential data error or an extraordinary situation. These could be cases where a club has very few losses or data entry errors.\n",
    "\n",
    "**Goals Scored Outliers:**\n",
    "- Count: 1,839 outliers.\n",
    "- Range: Goals scored range from 6 to 19 in these outlier games.\n",
    "- Implication: While high, these values are within the realm of possibility for high-scoring games. However, the upper end (close to 19 goals) is extremely rare and might warrant further investigation.\n",
    "\n",
    "**Goals Conceded Outliers:**\n",
    "- Count: 1,839 outliers, similar to goals scored.\n",
    "- Range: Goals conceded also range from 6 to 19.\n",
    "- Implication: This mirrors the goals scored data, indicating that these outliers could represent unusually high-scoring games.\n",
    "\n",
    "\n",
    "\n",
    "Giving it the benefit of the doubt we'll assume that the goals scored and conceded outliers are genuine and not data entry errors."
   ]
  },
  {
   "cell_type": "markdown",
   "metadata": {},
   "source": [
    "## Updated Analysis and Insights\n",
    "\n",
    "### Revised Win/Loss Ratio Outliers:\n",
    "\n",
    "Following a deeper investigation into the win/loss ratio outliers, we discovered that these extreme values were not due to sustained exceptional performance or data errors. Instead, they resulted from a methodological issue in our calculation:\n",
    "\n",
    "**Nature of Outliers:** The clubs with win/loss ratios of 1000 to 2000 had played only a very few games (1 or 2) and won all of them. This led to artificially high ratios due to the lack of losses.\n",
    "\n",
    "**Adjustment in Approach:** To address this, we've decided to adjust our method for calculating the win/loss ratio. We will either set a minimum number of games threshold for clubs to be included in this calculation or cap the win/loss ratio at a certain value to prevent extreme ratios.\n",
    "\n",
    "### Implementation of New Method:\n",
    "\n",
    "We will now recalculate the win/loss ratios using the revised method. This involves either excluding clubs with fewer games or capping the ratio to avoid extreme values.\n",
    "\n",
    "### Visualization and Re-analysis:\n",
    "\n",
    "After implementing the new calculation method, we will recreate the visualizations related to the win/loss ratio. This will provide us with an updated and more accurate representation of club performances, free from the distortions caused by clubs with very few games.\n",
    "\n",
    "### Next Steps:\n",
    "\n",
    "Once the recalculated win/loss ratios are visualized, we will analyze these results to gain a clearer understanding of club performances across the dataset. This will allow us to draw more reliable conclusions and provide insights that are rooted in a more robust analytical approach.\n",
    "\n",
    "Let's proceed with applying the new method for calculating win/loss ratios, updating the visualizations, and then analyzing the results. This will form the basis of our final insights and conclusions for the storybook."
   ]
  },
  {
   "cell_type": "code",
   "execution_count": null,
   "metadata": {},
   "outputs": [],
   "source": [
    "# Implementing the new method for calculating win/loss ratios\n",
    "# Excluding clubs with fewer than a certain number of games (e.g., 5 games)\n",
    "min_games_threshold = 5\n",
    "\n",
    "# Recalculating the win/loss ratio\n",
    "club_games_grouped = club_games_df.groupby('club_id').agg({'is_win': ['sum', 'count']})\n",
    "club_games_grouped.columns = club_games_grouped.columns.droplevel(0)\n",
    "club_games_grouped.rename(columns={'sum': 'wins', 'count': 'games_played'}, inplace=True)\n",
    "\n",
    "# Filtering clubs that meet the minimum games threshold\n",
    "filtered_clubs = club_games_grouped[club_games_grouped['games_played'] >= min_games_threshold].copy()\n",
    "\n",
    "# Calculating revised win/loss ratio\n",
    "filtered_clubs['losses'] = filtered_clubs['games_played'] - filtered_clubs['wins']\n",
    "filtered_clubs['revised_win_loss_ratio'] = filtered_clubs['wins'] / (filtered_clubs['losses'] + 0.001)\n",
    "\n",
    "# Merge revised ratios back into the main DataFrame\n",
    "club_games_df = club_games_df.merge(filtered_clubs[['revised_win_loss_ratio']], on='club_id', how='left')\n",
    "\n",
    "# Replace the original win/loss ratio column with the revised one\n",
    "club_games_df['win_loss_ratio'] = club_games_df['revised_win_loss_ratio']\n",
    "club_games_df.drop(columns=['revised_win_loss_ratio'], inplace=True)\n",
    "\n",
    "# Visualization: Revised Win/Loss Ratio\n",
    "plt.figure(figsize=(10, 6))\n",
    "sns.histplot(club_games_df['win_loss_ratio'], kde=True, color=\"lightblue\", binwidth=0.1)\n",
    "plt.title('Revised Win/Loss Ratios Across Clubs')\n",
    "plt.xlabel('Win/Loss Ratio')\n",
    "plt.ylabel('Frequency')\n",
    "plt.xlim(0, 10)  # Limiting x-axis for better visualization\n",
    "plt.show()\n",
    "\n",
    "revised_win_loss_ratio_description = club_games_df['win_loss_ratio'].describe()\n",
    "revised_win_loss_ratio_description"
   ]
  },
  {
   "cell_type": "markdown",
   "metadata": {},
   "source": [
    "## Visualization Overview:\n",
    "\n",
    "The histogram displays the distribution of the revised win/loss ratios across clubs. The distribution is more centered and compact, indicating a more realistic representation of club performances.\n",
    "\n",
    "## Revised Win/Loss Ratio Description:\n",
    "\n",
    "- Count: The analysis includes 1,483 clubs, each having played at least 5 games.\n",
    "- Mean Ratio: Approximately 0.68, suggesting a balanced performance across clubs.\n",
    "- Standard Deviation: About 0.47, indicating some variability in performance but within a reasonable range.\n",
    "- Range: The ratios range from 0 (no wins) to a maximum of around 4, a significant reduction from the previously observed extreme values."
   ]
  },
  {
   "cell_type": "markdown",
   "metadata": {},
   "source": [
    "# 4. Insights and Conclusions\n",
    "\n",
    "### Key Findings:\n",
    "\n",
    "**Revised Win/Loss Ratios:**\n",
    "Implementing a new calculation method for win/loss ratios, which excludes clubs with fewer than five games, yielded more realistic and balanced performance metrics.\n",
    "The extreme win/loss ratio outliers previously identified were found to be artifacts of clubs with very few games, all of which were won. Adjusting the calculation method mitigated these distortions.\n",
    "\n",
    "**Goals Scored and Conceded:**\n",
    "The dataset showed a substantial number of outliers in both goals scored and conceded, ranging from 6 to 19 goals in a game. These outliers were considered plausible within the context of high-scoring games.\n",
    "\n",
    "**Balanced Offensive and Defensive Capabilities:**\n",
    "The dataset generally exhibited a balance between offensive (goals scored) and defensive (goals conceded) capabilities across clubs.\n",
    "\n",
    "### Limitations:\n",
    "\n",
    "**Data Completeness:**\n",
    "The dataset had missing values in key columns like 'own_position' and 'opponent_position', which were addressed by filling them with placeholders. \n",
    "\n",
    "**Small Sample Size for Certain Clubs:**\n",
    "Some clubs had a very limited number of games, impacting the reliability of performance metrics like win/loss ratios for these clubs.\n",
    "\n",
    "### Recommendations:\n",
    "\n",
    "**Contextual Analysis:**\n",
    "Future analyses should consider the context of the total number of games played when evaluating performance metrics, especially for clubs with a limited number of games.\n",
    "\n",
    "**Further Data Verification:**\n",
    "For extreme outliers, especially in win/loss ratios, further verification with external data sources is recommended to confirm their authenticity.\n",
    "\n",
    "**Continuous Data Quality Monitoring:**\n",
    "Regular checks and cleaning routines should be implemented to maintain the quality and accuracy of the dataset.\n"
   ]
  },
  {
   "cell_type": "markdown",
   "metadata": {},
   "source": [
    "# Saving the cleaned data"
   ]
  },
  {
   "cell_type": "code",
   "execution_count": null,
   "metadata": {},
   "outputs": [],
   "source": [
    "# Saving the cleaned data\n",
    "cleaned_data_path = '../data/cleaned/club_games_cleaned.csv'\n",
    "club_games_df.to_csv(cleaned_data_path, index=False)"
   ]
  }
 ],
 "metadata": {
  "kernelspec": {
   "display_name": "iumtweb_env",
   "language": "python",
   "name": "python3"
  },
  "language_info": {
   "codemirror_mode": {
    "name": "ipython",
    "version": 3
   },
   "file_extension": ".py",
   "mimetype": "text/x-python",
   "name": "python",
   "nbconvert_exporter": "python",
   "pygments_lexer": "ipython3",
   "version": "3.9.9"
  }
 },
 "nbformat": 4,
 "nbformat_minor": 2
}

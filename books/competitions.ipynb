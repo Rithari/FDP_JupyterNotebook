{
 "cells": [
  {
   "cell_type": "markdown",
   "metadata": {},
   "source": [
    "# 1. Introduction\n",
    "## Objective\n",
    "\n",
    "The dataset appears to contain information about various sports competitions. Our aim is to explore this dataset to uncover insights into the different types of competitions, their geographic distribution, and other characteristics that might be present. We'll look into aspects such as competition types, countries involved, and any other unique attributes of these competitions.\n",
    "\n",
    "## Dataset Overview\n",
    "\n",
    "At first glance, the dataset includes columns like `competition_id`, `competition_code`, `name`, `sub_type`, `type`, `country_id`, `country_name`, `domestic_league_code`, `confederation`, and `url`.\n",
    "This suggests a comprehensive dataset covering diverse aspects of sports competitions across different countries and confederations."
   ]
  },
  {
   "cell_type": "markdown",
   "metadata": {},
   "source": [
    "# 2. Data Loading and Preliminary Analysis\n"
   ]
  },
  {
   "cell_type": "code",
   "execution_count": null,
   "metadata": {},
   "outputs": [],
   "source": [
    "import pandas as pd\n",
    "import numpy as np\n",
    "import matplotlib.pyplot as plt\n",
    "import seaborn as sns\n",
    "\n",
    "# Load the dataset\n",
    "competitions_df = pd.read_csv(\"../data/competitions.csv\")\n",
    "\n",
    "# Display the first few rows of the dataset for initial inspection\n",
    "competitions_df.head()\n"
   ]
  },
  {
   "cell_type": "markdown",
   "metadata": {},
   "source": [
    "\n",
    "## Initial Observations\n",
    "\n",
    "* Competition Details: Columns like `competition_id`, `competition_code`, and `name` provide basic identification details for each competition.\n",
    "\n",
    "* Competition Types: The `sub_type` and `type` columns indicate the nature of the competitions, such as domestic cups or other types.\n",
    "\n",
    "* Geographical Data: The `country_id`, `country_name`, and `confederation` columns suggest geographical categorization, likely offering insights into the global spread of these competitions.\n",
    "\n",
    "* Related Links: The `url` column contains links to more detailed information, possibly useful for further exploration.\n"
   ]
  },
  {
   "cell_type": "code",
   "execution_count": null,
   "metadata": {},
   "outputs": [],
   "source": [
    "# Assessing the dataset for missing values and data types\n",
    "missing_data = competitions_df.isnull().sum()\n",
    "data_types = competitions_df.dtypes\n",
    "\n",
    "# Summarizing the findings\n",
    "missing_data_summary = pd.DataFrame({'Missing Values': missing_data, 'Data Type': data_types})\n",
    "missing_data_summary\n"
   ]
  },
  {
   "cell_type": "markdown",
   "metadata": {},
   "source": [
    "# 3. Data Cleaning and Preprocessing\n",
    "### Missing Data\n",
    "Country Name and Domestic League Code: There are 7 missing values each in the `country_name` and `domestic_league_code` columns. Since these are categorical data, we need to decide whether to fill these missing values with a placeholder (like \"Unknown\") or to drop them. The decision depends on the significance of these columns for our analysis.\n",
    "\n",
    "Taking a closer look at the missing values and the surrounding information in those rows, we can see that the missing values are mostly for competitions that are not country-specific. For example, the `country_name` is missing for the `UEFA Champions League` and `UEFA Europa League` competitions, which are continental competitions. Similarly, the `domestic_league_code` is missing for the `UEFA Champions League` and `UEFA Europa League` competitions, which are not domestic competitions. Therefore, we can group those into a new category called \"International\" for both columns."
   ]
  },
  {
   "cell_type": "code",
   "execution_count": null,
   "metadata": {},
   "outputs": [],
   "source": [
    "# Filling missing values with \"International\"\n",
    "competitions_df['country_name'].fillna('International', inplace=True)\n",
    "competitions_df['domestic_league_code'].fillna('INT', inplace=True)\n",
    "\n",
    "# Verify if the missing values are filled\n",
    "competitions_df.isnull().sum()\n"
   ]
  },
  {
   "cell_type": "markdown",
   "metadata": {},
   "source": [
    "<h3> Data Type Conversions</h3>\n",
    "The dataset mostly contains object (string) types and integers. The data types appear appropriate for their respective columns."
   ]
  },
  {
   "cell_type": "markdown",
   "metadata": {},
   "source": [
    "# 4. Exploratory Data Analysis\n",
    "# 4. Exploratory Data Analysis\n",
    "\n",
    "Here are some key observations from the descriptive statistics:\n",
    "\n",
    "**Competition Details:**\n",
    "- There are 43 entries (competitions) in the dataset.\n",
    "- The dataset includes 42 unique competition names and codes, with one competition appearing twice.\n",
    "\n",
    "**Competition Types:**\n",
    "- There are 11 unique sub-types of competitions, with `first_tier` being the most frequent.\n",
    "- The dataset consists of 4 distinct types of competitions, with `domestic_league` being the most common.\n",
    "\n",
    "**Geographical Distribution:**\n",
    "- The `country_id` column has values ranging from -1 to 190. (The presence of -1 might require further investigation.)\n",
    "- There are 15 unique countries represented in the dataset. `International` is listed for 7 entries, reflecting the nature of those competitions as international.\n",
    "\n",
    "**Confederation:**\n",
    "- All entries belong to the `europa` confederation.\n"
   ]
  },
  {
   "cell_type": "markdown",
   "metadata": {},
   "source": [
    "## Visualisations\n"
   ]
  },
  {
   "cell_type": "code",
   "execution_count": null,
   "metadata": {},
   "outputs": [],
   "source": [
    "# Descriptive statistics for the dataset\n",
    "descriptive_stats = competitions_df.describe(include='all')\n",
    "\n",
    "# Display the descriptive statistics\n",
    "descriptive_stats\n"
   ]
  },
  {
   "cell_type": "markdown",
   "metadata": {},
   "source": [
    "**Distribution of Competitions by Type**:\n",
    "- The bar chart shows the frequency of different types of competitions in the dataset. 'Domestic_league' is the most common type, followed by 'domestic_cup' and others.\n",
    "\n",
    "**Distribution of Competitions by Country**:\n",
    "- This bar chart illustrates the number of competitions per country. 'International' competitions, which likely represent tournaments involving multiple countries, are notably represented. Other countries have varying numbers of competitions, with some having more representation than others."
   ]
  },
  {
   "cell_type": "code",
   "execution_count": null,
   "metadata": {},
   "outputs": [],
   "source": [
    "# Setting the aesthetic style of the plots\n",
    "sns.set_style(\"whitegrid\")\n",
    "\n",
    "# Creating visualizations\n",
    "plt.figure(figsize=(14, 6))\n",
    "\n",
    "# Distribution of competitions by type\n",
    "plt.subplot(1, 2, 1)\n",
    "sns.countplot(x='type', data=competitions_df)\n",
    "plt.title('Distribution of Competitions by Type')\n",
    "plt.xlabel('Type')\n",
    "plt.ylabel('Count')\n",
    "\n",
    "# Distribution of competitions by country\n",
    "plt.subplot(1, 2, 2)\n",
    "country_counts = competitions_df['country_name'].value_counts()\n",
    "country_counts.plot(kind='bar')\n",
    "plt.title('Distribution of Competitions by Country')\n",
    "plt.xlabel('Country')\n",
    "plt.ylabel('Count')\n",
    "\n",
    "plt.tight_layout()\n",
    "plt.show()\n"
   ]
  },
  {
   "cell_type": "markdown",
   "metadata": {},
   "source": [
    "## In-depth Analysis"
   ]
  },
  {
   "cell_type": "code",
   "execution_count": null,
   "metadata": {},
   "outputs": [],
   "source": [
    "# Analysis 1: Comparison of Domestic vs. International Competitions\n",
    "domestic_vs_international = competitions_df['country_name'].apply(lambda x: 'International' if x == 'International' else 'Domestic').value_counts()\n",
    "\n",
    "# Analysis 2: Distribution of Sub-types of Competitions\n",
    "sub_type_distribution = competitions_df['sub_type'].value_counts()\n",
    "\n",
    "# Plotting the results\n",
    "plt.figure(figsize=(14, 6))\n",
    "\n",
    "# Plot for Domestic vs. International Competitions\n",
    "plt.subplot(1, 2, 1)\n",
    "domestic_vs_international.plot(kind='bar')\n",
    "plt.title('Domestic vs. International Competitions')\n",
    "plt.xlabel('Competition Type')\n",
    "plt.ylabel('Count')\n",
    "\n",
    "# Plot for Sub-types of Competitions\n",
    "plt.subplot(1, 2, 2)\n",
    "sub_type_distribution.plot(kind='bar')\n",
    "plt.title('Distribution of Sub-types of Competitions')\n",
    "plt.xlabel('Sub-type')\n",
    "plt.ylabel('Count')\n",
    "\n",
    "plt.tight_layout()\n",
    "plt.show()\n"
   ]
  },
  {
   "cell_type": "markdown",
   "metadata": {},
   "source": [
    "**Domestic vs. International Competitions**:\n",
    "- The first bar chart illustrates the comparison between domestic and international competitions. There are significantly more domestic competitions in the dataset compared to international ones.\n",
    "\n",
    "**Distribution of Sub-types of Competitions**:\n",
    "- The second bar chart shows the distribution of different sub-types of competitions. '`First_tier`' is the most common sub-type, followed by other types like '`domestic_cup`, '`domestic_super_cup`', and several others."
   ]
  },
  {
   "cell_type": "markdown",
   "metadata": {},
   "source": [
    "# 5. Insights and Conclusions\n",
    "\n",
    "## Key Findings\n",
    "- The majority of competitions in the dataset are domestic, with a smaller portion being international.\n",
    "\n",
    "- '`First_tier`' competitions (likely top-division leagues) dominate the dataset, followed by various types of cups and super cups.\n",
    "\n",
    "- All competitions are under the '`europa`' confederation, indicating a focus on European sports competitions.\n",
    "\n",
    "## Limitations \n",
    "- The dataset is limited to 43 entries, which may not fully represent the global diversity of sports competitions.\n",
    "\n",
    "- The scope is confined to the 'europa' confederation, excluding significant competitions from other parts of the world.\n",
    "\n",
    "## Recommendations\n",
    "\n",
    "- For a more comprehensive analysis, expanding the dataset to include competitions from other confederations and a larger variety of countries could provide broader insights.\n",
    "\n",
    "- Further investigation into specific types of competitions (like 'first_tier' leagues) could reveal more detailed trends and patterns relevant to sports analytics and management."
   ]
  },
  {
   "cell_type": "markdown",
   "metadata": {},
   "source": [
    "# Saving the cleaned dataset"
   ]
  },
  {
   "cell_type": "code",
   "execution_count": null,
   "metadata": {},
   "outputs": [],
   "source": [
    "# Save the cleaned DataFrame to a new CSV file\n",
    "cleaned_data_path = '../data/cleaned/competitions.csv'\n",
    "competitions_df.to_csv(cleaned_data_path, index=False)"
   ]
  }
 ],
 "metadata": {
  "kernelspec": {
   "display_name": "Python 3",
   "language": "python",
   "name": "python3"
  },
  "language_info": {
   "codemirror_mode": {
    "name": "ipython",
    "version": 3
   },
   "file_extension": ".py",
   "mimetype": "text/x-python",
   "name": "python",
   "nbconvert_exporter": "python",
   "pygments_lexer": "ipython3",
   "version": "3.9.9"
  }
 },
 "nbformat": 4,
 "nbformat_minor": 2
}
